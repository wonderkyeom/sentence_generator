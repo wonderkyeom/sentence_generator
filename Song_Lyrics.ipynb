{
 "cells": [
  {
   "cell_type": "code",
   "execution_count": 1,
   "metadata": {},
   "outputs": [
    {
     "data": {
      "text/plain": [
       "[PhysicalDevice(name='/physical_device:GPU:0', device_type='GPU')]"
      ]
     },
     "execution_count": 1,
     "metadata": {},
     "output_type": "execute_result"
    }
   ],
   "source": [
    "import tensorflow as tf\n",
    "tf.config.list_physical_devices('GPU')"
   ]
  },
  {
   "cell_type": "markdown",
   "metadata": {},
   "source": [
    "# Step 1, 2 데이터 다운로드 및 읽어오기"
   ]
  },
  {
   "cell_type": "code",
   "execution_count": 2,
   "metadata": {},
   "outputs": [
    {
     "name": "stdout",
     "output_type": "stream",
     "text": [
      "데이터 크기: 187088\n",
      "Examples:\n",
      " ['At first I was afraid', 'I was petrified', 'I kept thinking I could never live without you']\n"
     ]
    }
   ],
   "source": [
    "import glob\n",
    "import numpy as np\n",
    "import os\n",
    "import tensorflow as tf\n",
    "from tensorflow import keras\n",
    "\n",
    "txt_file_path = './lyricist/data/lyrics/*.txt'\n",
    "\n",
    "txt_list = glob.glob(txt_file_path)\n",
    "\n",
    "raw_corpus = []\n",
    "\n",
    "# 여러개의 txt 파일을 모두 읽어서 raw_corpus 에 담습니다.\n",
    "for txt_file in txt_list:\n",
    "    with open(txt_file, \"r\") as f:\n",
    "        raw = f.read().splitlines()\n",
    "        raw_corpus.extend(raw)\n",
    "\n",
    "print(\"데이터 크기:\", len(raw_corpus))\n",
    "print(\"Examples:\\n\", raw_corpus[:3])"
   ]
  },
  {
   "cell_type": "markdown",
   "metadata": {},
   "source": [
    "# Step 3. 데이터 정제"
   ]
  },
  {
   "cell_type": "code",
   "execution_count": 3,
   "metadata": {},
   "outputs": [
    {
     "name": "stdout",
     "output_type": "stream",
     "text": [
      "<start> this is sample sentence . <end>\n"
     ]
    }
   ],
   "source": [
    "import re\n",
    "\n",
    "def preprocess_sentence(sentence):\n",
    "    sentence = sentence.lower().strip()       # 소문자로 바꾸고 양쪽 공백을 삭제\n",
    "  \n",
    "    # 아래 3단계를 거쳐 sentence는 스페이스 1개를 delimeter로 하는 소문자 단어 시퀀스로 바뀝니다.\n",
    "    sentence = re.sub(r\"([?.!,¿])\", r\" \\1 \", sentence)        # 패턴의 특수문자를 만나면 특수문자 양쪽에 공백을 추가\n",
    "    sentence = re.sub(r'[\" \"]+', \" \", sentence)                  # 공백 패턴을 만나면 스페이스 1개로 치환\n",
    "    sentence = re.sub(r\"[^a-zA-Z?.!,¿]+\", \" \", sentence)  # a-zA-Z?.!,¿ 패턴을 제외한 모든 문자(공백문자까지도)를 스페이스 1개로 치환\n",
    "\n",
    "    sentence = sentence.strip()\n",
    "\n",
    "    sentence = '<start> ' + sentence + ' <end>'      # 이전 스텝에서 본 것처럼 문장 앞뒤로 <start>와 <end>를 단어처럼 붙여 줍니다\n",
    "    \n",
    "    return sentence\n",
    "\n",
    "print(preprocess_sentence(\"This @_is ;;;sample        sentence.\"))   # 이 문장이 어떻게 필터링되는지 확인해 보세요."
   ]
  },
  {
   "cell_type": "code",
   "execution_count": 30,
   "metadata": {},
   "outputs": [
    {
     "data": {
      "text/plain": [
       "['<start> at first i was afraid <end>',\n",
       " '<start> i was petrified <end>',\n",
       " '<start> i kept thinking i could never live without you <end>',\n",
       " '<start> by my side but then i spent so many nights <end>',\n",
       " '<start> just thinking how you ve done me wrong <end>',\n",
       " '<start> i grew strong <end>',\n",
       " '<start> i learned how to get along and so you re back <end>',\n",
       " '<start> from outer space <end>',\n",
       " '<start> i just walked in to find you <end>',\n",
       " '<start> here without that look upon your face i should have changed that fucking lock <end>']"
      ]
     },
     "execution_count": 30,
     "metadata": {},
     "output_type": "execute_result"
    }
   ],
   "source": [
    "corpus = []\n",
    "\n",
    "for sentence in raw_corpus:\n",
    "    new_sentence = preprocess_sentence(sentence)\n",
    "    if len(new_sentence) == 0: continue\n",
    "    if new_sentence[-1] == \":\": continue\n",
    "    \n",
    "    # if new_sentence.count(\" \") <= 13:\n",
    "    # if len(new_sentence.split()) <= 15: # without corpus having more than 15 token\n",
    "    #    corpus.append(new_sentence)\n",
    "    corpus.append(preprocess_sentence(sentence))\n",
    "    \n",
    "        \n",
    "corpus[:10]"
   ]
  },
  {
   "cell_type": "code",
   "execution_count": 75,
   "metadata": {},
   "outputs": [],
   "source": [
    "new_corpus = []\n",
    "for i in range(len(corpus) - 1):\n",
    "    if len(corpus[i].split()) <= 13: # <Start> & <End>\n",
    "        new_corpus.append(corpus[i])"
   ]
  },
  {
   "cell_type": "code",
   "execution_count": 76,
   "metadata": {},
   "outputs": [
    {
     "data": {
      "text/plain": [
       "187088"
      ]
     },
     "execution_count": 76,
     "metadata": {},
     "output_type": "execute_result"
    }
   ],
   "source": [
    "len(corpus)"
   ]
  },
  {
   "cell_type": "code",
   "execution_count": 77,
   "metadata": {},
   "outputs": [
    {
     "data": {
      "text/plain": [
       "153375"
      ]
     },
     "execution_count": 77,
     "metadata": {},
     "output_type": "execute_result"
    }
   ],
   "source": [
    "len(new_corpus)"
   ]
  },
  {
   "cell_type": "code",
   "execution_count": 78,
   "metadata": {},
   "outputs": [
    {
     "name": "stdout",
     "output_type": "stream",
     "text": [
      "[[   2   72  254 ...    0    0    0]\n",
      " [   2    4   52 ...    0    0    0]\n",
      " [   2    4 1019 ...    0    0    0]\n",
      " ...\n",
      " [   2  221    1 ...    0    0    0]\n",
      " [   2    1    4 ...    0    0    0]\n",
      " [   2  683    5 ...    0    0    0]] <keras_preprocessing.text.Tokenizer object at 0x7f41b6b48f90>\n"
     ]
    }
   ],
   "source": [
    "def tokenize(corpus):\n",
    "    # 텐서플로우에서 제공하는 Tokenizer 패키지를 생성\n",
    "    tokenizer = tf.keras.preprocessing.text.Tokenizer(\n",
    "        num_words=12000,  # 전체 단어의 개수 \n",
    "        filters=' ',    # 별도로 전처리 로직을 추가할 수 있습니다. 이번에는 사용하지 않겠습니다.\n",
    "        oov_token=\"<unk>\"  # out-of-vocabulary, 사전에 없었던 단어는 어떤 토큰으로 대체할지\n",
    "    )\n",
    "    tokenizer.fit_on_texts(new_corpus)   # 우리가 구축한 corpus로부터 Tokenizer가 사전을 자동구축하게 됩니다.\n",
    "\n",
    "    # 이후 tokenizer를 활용하여 모델에 입력할 데이터셋을 구축하게 됩니다.\n",
    "    tensor = tokenizer.texts_to_sequences(new_corpus)   # tokenizer는 구축한 사전으로부터 corpus를 해석해 Tensor로 변환합니다.\n",
    "\n",
    "    # 입력 데이터의 시퀀스 길이를 일정하게 맞추기 위한 padding  메소드를 제공합니다.\n",
    "    # maxlen의 디폴트값은 None입니다. 이 경우 corpus의 가장 긴 문장을 기준으로 시퀀스 길이가 맞춰집니다.\n",
    "    tensor = tf.keras.preprocessing.sequence.pad_sequences(tensor, padding='post', maxlen = 15)  \n",
    "\n",
    "    print(tensor,tokenizer)\n",
    "    return tensor, tokenizer\n",
    "\n",
    "tensor, tokenizer = tokenize(corpus)"
   ]
  },
  {
   "cell_type": "code",
   "execution_count": 79,
   "metadata": {},
   "outputs": [
    {
     "data": {
      "text/plain": [
       "array([[   2,   72,  254, ...,    0,    0,    0],\n",
       "       [   2,    4,   52, ...,    0,    0,    0],\n",
       "       [   2,    4, 1019, ...,    0,    0,    0],\n",
       "       ...,\n",
       "       [   2,  221,    1, ...,    0,    0,    0],\n",
       "       [   2,    1,    4, ...,    0,    0,    0],\n",
       "       [   2,  683,    5, ...,    0,    0,    0]], dtype=int32)"
      ]
     },
     "execution_count": 79,
     "metadata": {},
     "output_type": "execute_result"
    }
   ],
   "source": [
    "tensor"
   ]
  },
  {
   "cell_type": "code",
   "execution_count": 80,
   "metadata": {},
   "outputs": [
    {
     "data": {
      "text/plain": [
       "15"
      ]
     },
     "execution_count": 80,
     "metadata": {},
     "output_type": "execute_result"
    }
   ],
   "source": [
    "len(tensor[0])"
   ]
  },
  {
   "cell_type": "code",
   "execution_count": 81,
   "metadata": {},
   "outputs": [
    {
     "data": {
      "text/plain": [
       "<keras_preprocessing.text.Tokenizer at 0x7f41b6b48f90>"
      ]
     },
     "execution_count": 81,
     "metadata": {},
     "output_type": "execute_result"
    }
   ],
   "source": [
    "tokenizer"
   ]
  },
  {
   "cell_type": "code",
   "execution_count": 82,
   "metadata": {},
   "outputs": [
    {
     "name": "stdout",
     "output_type": "stream",
     "text": [
      "[  2  72 254   4  52 705   3   0   0   0   0   0   0   0]\n",
      "[ 72 254   4  52 705   3   0   0   0   0   0   0   0   0]\n"
     ]
    }
   ],
   "source": [
    "src_input = tensor[:, :-1]  # tensor에서 마지막 토큰을 잘라내서 소스 문장을 생성합니다. 마지막 토큰은 <end>가 아니라 <pad>일 가능성이 높습니다.\n",
    "tgt_input = tensor[:, 1:]    # tensor에서 <start>를 잘라내서 타겟 문장을 생성합니다.\n",
    "\n",
    "print(src_input[0])\n",
    "print(tgt_input[0])"
   ]
  },
  {
   "cell_type": "markdown",
   "metadata": {},
   "source": [
    "# Step 4. 평가 데이터셋 분리"
   ]
  },
  {
   "cell_type": "code",
   "execution_count": 83,
   "metadata": {},
   "outputs": [],
   "source": [
    "from sklearn.model_selection import train_test_split\n",
    "\n",
    "enc_train, enc_val, dec_train, dec_val = train_test_split(src_input, tgt_input, test_size = 0.2, shuffle = True)"
   ]
  },
  {
   "cell_type": "code",
   "execution_count": 84,
   "metadata": {},
   "outputs": [
    {
     "data": {
      "text/plain": [
       "<BatchDataset shapes: ((256, 14), (256, 14)), types: (tf.int32, tf.int32)>"
      ]
     },
     "execution_count": 84,
     "metadata": {},
     "output_type": "execute_result"
    }
   ],
   "source": [
    "BUFFER_SIZE = len(src_input)\n",
    "BATCH_SIZE = 256\n",
    "steps_per_epoch = len(src_input) // BATCH_SIZE\n",
    "\n",
    "VOCAB_SIZE = tokenizer.num_words + 1    # tokenizer가 구축한 단어사전 내 12000개와, 여기 포함되지 않은 0:<pad>를 포함하여 12001개\n",
    "\n",
    "dataset = tf.data.Dataset.from_tensor_slices((enc_train, dec_train)).shuffle(BUFFER_SIZE)\n",
    "dataset = dataset.batch(BATCH_SIZE, drop_remainder=True)\n",
    "dataset"
   ]
  },
  {
   "cell_type": "code",
   "execution_count": 85,
   "metadata": {},
   "outputs": [
    {
     "name": "stdout",
     "output_type": "stream",
     "text": [
      "Source Train: (122700, 14)\n",
      "Target Train: (122700, 14)\n"
     ]
    }
   ],
   "source": [
    "print(\"Source Train:\", enc_train.shape)\n",
    "print(\"Target Train:\", dec_train.shape)"
   ]
  },
  {
   "cell_type": "markdown",
   "metadata": {},
   "source": [
    "# Step 5. 인공지능 만들기"
   ]
  },
  {
   "cell_type": "code",
   "execution_count": 86,
   "metadata": {},
   "outputs": [],
   "source": [
    "class TextGenerator(tf.keras.Model):\n",
    "    def __init__(self, vocab_size, embedding_size, hidden_size):\n",
    "        super(TextGenerator, self).__init__()\n",
    "        \n",
    "        self.embedding = tf.keras.layers.Embedding(vocab_size, embedding_size)\n",
    "        self.rnn_1 = tf.keras.layers.LSTM(hidden_size, return_sequences=True)\n",
    "        self.rnn_2 = tf.keras.layers.LSTM(hidden_size, return_sequences=True)\n",
    "        self.linear = tf.keras.layers.Dense(vocab_size)\n",
    "        \n",
    "    def call(self, x):\n",
    "        out = self.embedding(x)\n",
    "        out = self.rnn_1(out)\n",
    "        out = self.rnn_2(out)\n",
    "        out = self.linear(out)\n",
    "        \n",
    "        return out\n",
    "    \n",
    "embedding_size = 256\n",
    "hidden_size = 1024\n",
    "model = TextGenerator(tokenizer.num_words + 1, embedding_size , hidden_size)"
   ]
  },
  {
   "cell_type": "code",
   "execution_count": 87,
   "metadata": {},
   "outputs": [
    {
     "data": {
      "text/plain": [
       "<tf.Tensor: shape=(256, 14, 12001), dtype=float32, numpy=\n",
       "array([[[ 1.2625084e-04, -6.2304775e-06, -9.4458475e-05, ...,\n",
       "          2.1256608e-04, -1.9971860e-04,  4.3399596e-05],\n",
       "        [ 1.8461673e-04, -2.4515168e-06, -3.2792447e-04, ...,\n",
       "          8.6879474e-05, -4.9097760e-04,  1.9980471e-04],\n",
       "        [ 3.7683416e-04,  9.1476097e-05, -2.8378403e-04, ...,\n",
       "          7.0618029e-05, -3.0648970e-04,  8.8869645e-05],\n",
       "        ...,\n",
       "        [ 3.7264646e-04, -1.2789902e-04,  1.7314256e-03, ...,\n",
       "          5.0077244e-04, -5.0454371e-04, -1.6534987e-03],\n",
       "        [ 5.7094829e-04, -9.6801850e-05,  1.9770933e-03, ...,\n",
       "          6.9885032e-04, -6.5774797e-04, -1.9571872e-03],\n",
       "        [ 7.7310740e-04, -7.5450698e-05,  2.1906572e-03, ...,\n",
       "          8.7160681e-04, -8.1312074e-04, -2.2199615e-03]],\n",
       "\n",
       "       [[ 1.2625084e-04, -6.2304775e-06, -9.4458475e-05, ...,\n",
       "          2.1256608e-04, -1.9971860e-04,  4.3399596e-05],\n",
       "        [ 3.8278333e-04,  3.8775954e-05, -4.2555443e-04, ...,\n",
       "          1.2292201e-04, -1.9809481e-04, -6.9689042e-05],\n",
       "        [ 4.1189248e-04,  2.9971762e-04, -5.9336884e-04, ...,\n",
       "          2.5813893e-05, -8.5798798e-05, -1.7644053e-04],\n",
       "        ...,\n",
       "        [ 1.8049114e-04, -6.9918367e-04,  1.2610435e-03, ...,\n",
       "          5.2754092e-04, -4.2609024e-04, -4.7160289e-04],\n",
       "        [ 3.2878917e-04, -6.0933718e-04,  1.5950412e-03, ...,\n",
       "          7.7668478e-04, -4.1028555e-04, -8.8895729e-04],\n",
       "        [ 5.0868525e-04, -5.2586384e-04,  1.8992117e-03, ...,\n",
       "          1.0082620e-03, -4.3465907e-04, -1.2942831e-03]],\n",
       "\n",
       "       [[ 1.2625084e-04, -6.2304775e-06, -9.4458475e-05, ...,\n",
       "          2.1256608e-04, -1.9971860e-04,  4.3399596e-05],\n",
       "        [ 2.6183666e-04,  2.4406958e-05, -2.7590030e-04, ...,\n",
       "          2.6138141e-04, -3.9458540e-04,  3.0102007e-04],\n",
       "        [-7.7231154e-05,  1.7089618e-04, -6.6542608e-04, ...,\n",
       "          5.2727206e-04, -3.8984133e-04,  4.1641758e-04],\n",
       "        ...,\n",
       "        [ 9.3787734e-04,  2.8306505e-04,  1.7878894e-03, ...,\n",
       "          1.2535788e-03, -7.1176531e-04, -1.8820707e-03],\n",
       "        [ 1.1620326e-03,  2.4965202e-04,  2.0432419e-03, ...,\n",
       "          1.3173788e-03, -8.2648214e-04, -2.1456124e-03],\n",
       "        [ 1.3663369e-03,  2.0816163e-04,  2.2597574e-03, ...,\n",
       "          1.3694892e-03, -9.3608280e-04, -2.3660986e-03]],\n",
       "\n",
       "       ...,\n",
       "\n",
       "       [[ 1.2625084e-04, -6.2304775e-06, -9.4458475e-05, ...,\n",
       "          2.1256608e-04, -1.9971860e-04,  4.3399596e-05],\n",
       "        [ 9.2686743e-05, -9.5878104e-06, -6.1600440e-05, ...,\n",
       "          3.0247425e-04, -3.9894861e-04, -9.2411326e-05],\n",
       "        [ 8.6033542e-05, -5.3893982e-05, -4.6905159e-05, ...,\n",
       "          5.4004241e-04, -5.6208478e-04, -1.9082794e-04],\n",
       "        ...,\n",
       "        [ 7.1378087e-04,  2.8691973e-04, -5.1778072e-04, ...,\n",
       "          3.8607087e-04, -1.6198689e-04,  7.9981779e-05],\n",
       "        [ 7.8558095e-04,  2.7397313e-04, -1.1917195e-04, ...,\n",
       "          6.2145106e-04, -1.5747199e-04, -1.5490083e-04],\n",
       "        [ 9.0361014e-04,  2.5554525e-04,  3.1118916e-04, ...,\n",
       "          8.6210133e-04, -2.0525916e-04, -4.4978753e-04]],\n",
       "\n",
       "       [[ 1.2625084e-04, -6.2304775e-06, -9.4458475e-05, ...,\n",
       "          2.1256608e-04, -1.9971860e-04,  4.3399596e-05],\n",
       "        [ 2.6655034e-04, -6.6888511e-05, -2.1180672e-04, ...,\n",
       "          1.2858713e-04, -3.2084421e-04,  7.1018163e-05],\n",
       "        [ 1.6071351e-04,  1.6980094e-04, -3.7714685e-04, ...,\n",
       "          2.1513160e-05, -4.9925363e-04,  2.1880138e-05],\n",
       "        ...,\n",
       "        [-3.6394221e-04, -9.7235570e-05,  3.2232248e-04, ...,\n",
       "         -2.5790159e-04,  4.7348643e-04, -1.1716916e-03],\n",
       "        [-1.5183601e-04, -1.9687248e-05,  7.1418792e-04, ...,\n",
       "         -5.9900103e-05,  3.2995510e-04, -1.4739201e-03],\n",
       "        [ 8.5745807e-05,  4.4204073e-05,  1.0855674e-03, ...,\n",
       "          1.4914376e-04,  1.3987756e-04, -1.7636246e-03]],\n",
       "\n",
       "       [[ 1.2625084e-04, -6.2304775e-06, -9.4458475e-05, ...,\n",
       "          2.1256608e-04, -1.9971860e-04,  4.3399596e-05],\n",
       "        [ 1.2590304e-04,  1.0573382e-05,  3.1186576e-04, ...,\n",
       "          2.7305976e-04, -1.8769953e-05, -1.4582490e-04],\n",
       "        [ 2.3421946e-04,  1.9480736e-05,  4.0197745e-04, ...,\n",
       "          3.3530599e-04, -2.2807218e-04, -9.9648998e-05],\n",
       "        ...,\n",
       "        [-2.3858607e-04,  5.2150129e-04,  1.1069940e-03, ...,\n",
       "         -6.2398444e-04, -9.9933846e-04,  6.1649160e-04],\n",
       "        [-2.6528152e-05,  4.9160584e-04,  1.2898557e-03, ...,\n",
       "         -5.7030510e-04, -8.1641733e-04,  2.8945578e-04],\n",
       "        [ 2.2346097e-04,  4.6359998e-04,  1.5276441e-03, ...,\n",
       "         -3.8758479e-04, -6.9993123e-04, -9.7942953e-05]]], dtype=float32)>"
      ]
     },
     "execution_count": 87,
     "metadata": {},
     "output_type": "execute_result"
    }
   ],
   "source": [
    "for src_sample, tgt_sample in dataset.take(1): break\n",
    "model(src_sample)"
   ]
  },
  {
   "cell_type": "code",
   "execution_count": 88,
   "metadata": {},
   "outputs": [
    {
     "name": "stdout",
     "output_type": "stream",
     "text": [
      "Model: \"text_generator_2\"\n",
      "_________________________________________________________________\n",
      "Layer (type)                 Output Shape              Param #   \n",
      "=================================================================\n",
      "embedding_2 (Embedding)      multiple                  3072256   \n",
      "_________________________________________________________________\n",
      "lstm_4 (LSTM)                multiple                  5246976   \n",
      "_________________________________________________________________\n",
      "lstm_5 (LSTM)                multiple                  8392704   \n",
      "_________________________________________________________________\n",
      "dense_2 (Dense)              multiple                  12301025  \n",
      "=================================================================\n",
      "Total params: 29,012,961\n",
      "Trainable params: 29,012,961\n",
      "Non-trainable params: 0\n",
      "_________________________________________________________________\n"
     ]
    }
   ],
   "source": [
    "model.summary()"
   ]
  },
  {
   "cell_type": "code",
   "execution_count": 89,
   "metadata": {},
   "outputs": [
    {
     "name": "stdout",
     "output_type": "stream",
     "text": [
      "Epoch 1/30\n",
      "479/479 [==============================] - 58s 121ms/step - loss: 3.1143\n",
      "Epoch 2/30\n",
      "479/479 [==============================] - 59s 123ms/step - loss: 2.6820\n",
      "Epoch 3/30\n",
      "479/479 [==============================] - 60s 125ms/step - loss: 2.5387\n",
      "Epoch 4/30\n",
      "479/479 [==============================] - 61s 128ms/step - loss: 2.4258\n",
      "Epoch 5/30\n",
      "479/479 [==============================] - 63s 132ms/step - loss: 2.3276\n",
      "Epoch 6/30\n",
      "479/479 [==============================] - 64s 133ms/step - loss: 2.2391\n",
      "Epoch 7/30\n",
      "479/479 [==============================] - 64s 133ms/step - loss: 2.1579\n",
      "Epoch 8/30\n",
      "479/479 [==============================] - 64s 133ms/step - loss: 2.0811\n",
      "Epoch 9/30\n",
      "479/479 [==============================] - 63s 132ms/step - loss: 2.0069\n",
      "Epoch 10/30\n",
      "479/479 [==============================] - 64s 133ms/step - loss: 1.9357\n",
      "Epoch 11/30\n",
      "479/479 [==============================] - 64s 133ms/step - loss: 1.8685\n",
      "Epoch 12/30\n",
      "479/479 [==============================] - 63s 133ms/step - loss: 1.8045\n",
      "Epoch 13/30\n",
      "479/479 [==============================] - 63s 133ms/step - loss: 1.7432\n",
      "Epoch 14/30\n",
      "479/479 [==============================] - 64s 133ms/step - loss: 1.6844\n",
      "Epoch 15/30\n",
      "479/479 [==============================] - 63s 133ms/step - loss: 1.6275\n",
      "Epoch 16/30\n",
      "479/479 [==============================] - 64s 133ms/step - loss: 1.5740\n",
      "Epoch 17/30\n",
      "479/479 [==============================] - 64s 133ms/step - loss: 1.5207\n",
      "Epoch 18/30\n",
      "479/479 [==============================] - 64s 133ms/step - loss: 1.4704\n",
      "Epoch 19/30\n",
      "479/479 [==============================] - 64s 133ms/step - loss: 1.4217\n",
      "Epoch 20/30\n",
      "479/479 [==============================] - 64s 133ms/step - loss: 1.3748\n",
      "Epoch 21/30\n",
      "479/479 [==============================] - 64s 133ms/step - loss: 1.3306\n",
      "Epoch 22/30\n",
      "479/479 [==============================] - 64s 133ms/step - loss: 1.2878\n",
      "Epoch 23/30\n",
      "479/479 [==============================] - 64s 133ms/step - loss: 1.2475\n",
      "Epoch 24/30\n",
      "479/479 [==============================] - 64s 133ms/step - loss: 1.2093\n",
      "Epoch 25/30\n",
      "479/479 [==============================] - 64s 133ms/step - loss: 1.1744\n",
      "Epoch 26/30\n",
      "479/479 [==============================] - 64s 133ms/step - loss: 1.1411\n",
      "Epoch 27/30\n",
      "479/479 [==============================] - 64s 133ms/step - loss: 1.1102\n",
      "Epoch 28/30\n",
      "479/479 [==============================] - 65s 135ms/step - loss: 1.0814\n",
      "Epoch 29/30\n",
      "479/479 [==============================] - 65s 136ms/step - loss: 1.0549\n",
      "Epoch 30/30\n",
      "479/479 [==============================] - 63s 132ms/step - loss: 1.0308\n"
     ]
    },
    {
     "data": {
      "text/plain": [
       "<tensorflow.python.keras.callbacks.History at 0x7f41b6a7d390>"
      ]
     },
     "execution_count": 89,
     "metadata": {},
     "output_type": "execute_result"
    }
   ],
   "source": [
    "optimizer = tf.keras.optimizers.Adam()\n",
    "loss = tf.keras.losses.SparseCategoricalCrossentropy(\n",
    "    from_logits=True,\n",
    "    reduction='none'\n",
    ")\n",
    "\n",
    "model.compile(loss=loss, optimizer=optimizer)\n",
    "model.fit(dataset, epochs=30)"
   ]
  },
  {
   "cell_type": "code",
   "execution_count": 92,
   "metadata": {},
   "outputs": [
    {
     "name": "stdout",
     "output_type": "stream",
     "text": [
      "959/959 - 8s - loss: 2.1939\n",
      "2.193932056427002\n"
     ]
    }
   ],
   "source": [
    "# 모델 검증\n",
    "\n",
    "results = model.evaluate(enc_val, dec_val, verbose = 2)\n",
    "print(results)"
   ]
  },
  {
   "cell_type": "code",
   "execution_count": 90,
   "metadata": {},
   "outputs": [],
   "source": [
    "def generate_text(model, tokenizer, init_sentence=\"<start>\", max_len=20):\n",
    "    # 테스트를 위해서 입력받은 init_sentence도 일단 텐서로 변환합니다.\n",
    "    test_input = tokenizer.texts_to_sequences([init_sentence])\n",
    "    test_tensor = tf.convert_to_tensor(test_input, dtype=tf.int64)\n",
    "    end_token = tokenizer.word_index[\"<end>\"]\n",
    "\n",
    "    # 텍스트를 실제로 생성할때는 루프를 돌면서 단어 하나씩 생성해야 합니다. \n",
    "    while True:\n",
    "        predict = model(test_tensor)  # 입력받은 문장의 텐서를 입력합니다. \n",
    "        predict_word = tf.argmax(tf.nn.softmax(predict, axis=-1), axis=-1)[:, -1]   # 우리 모델이 예측한 마지막 단어가 바로 새롭게 생성한 단어가 됩니다. \n",
    "\n",
    "        # 우리 모델이 새롭게 예측한 단어를 입력 문장의 뒤에 붙여 줍니다. \n",
    "        test_tensor = tf.concat([test_tensor, tf.expand_dims(predict_word, axis=0)], axis=-1)\n",
    "\n",
    "        # 우리 모델이 <end>를 예측했거나, max_len에 도달하지 않았다면  while 루프를 또 돌면서 다음 단어를 예측해야 합니다.\n",
    "        if predict_word.numpy()[0] == end_token: break\n",
    "        if test_tensor.shape[1] >= max_len: break\n",
    "\n",
    "    generated = \"\"\n",
    "    # 생성된 tensor 안에 있는 word index를 tokenizer.index_word 사전을 통해 실제 단어로 하나씩 변환합니다. \n",
    "    for word_index in test_tensor[0].numpy():\n",
    "        generated += tokenizer.index_word[word_index] + \" \"\n",
    "\n",
    "    return generated   # 이것이 최종적으로 모델이 생성한 자연어 문장입니다."
   ]
  },
  {
   "cell_type": "code",
   "execution_count": 91,
   "metadata": {},
   "outputs": [
    {
     "data": {
      "text/plain": [
       "'<start> i m not the only one <end> '"
      ]
     },
     "execution_count": 91,
     "metadata": {},
     "output_type": "execute_result"
    }
   ],
   "source": [
    "generate_text(model, tokenizer, init_sentence=\"<start> i\", max_len = 20)"
   ]
  },
  {
   "cell_type": "markdown",
   "metadata": {},
   "source": [
    "# 회고\n",
    "\n",
    "### - 이번 프로젝트에서 어려웠던 점.\n",
    "    역시나 자연어처리쪽은 어렵다는 것을 다시 한번 느끼게 되었습니다. (나랑 안맞아..)\n",
    "    RNN 계열의 모델 원리를 이해하고 구성해보는 과정에서 저번 CNN 때와 마찬가지로 알고리즘 자체에 대한 깊은 이해가 전제된다면 전반적인 processing이 더 잘 이해될 것 같다는 느낌이 들었습니다. \n",
    "    \n",
    "    \n",
    "### - 프로젝트를 진행하면서 알아낸 점 혹은 아직 모호한 점.\n",
    "    처음에 dataset을 split 하지 않고 학습을 진행해보았는데, 예상했던 대로 dataset의 크기가 클 수록 loss 측면에서 더 나은 학습을 하는 것 같았습니다.\n",
    "    현재 모델의 loss가 trainset에 대해서는 1.0 초반대가 나오고, testset에 대해서는 2.19 정도가 나오는데, 아마 데이터셋의 크기 자체가 더 커지게 된다면 loss 자체를 더 줄일 수 있을 것으로 생각됩니다.\n",
    "    \n",
    "    RNN 알고리즘이 어떻게 동작하는지는 어느정도 이해를 하게 되었습니다. 하지만, 단순히 확률값에 근거해서 다음 단어를 예측하는 방식이 어떻게 GPT-3가 사람이 쓰는 문장처럼 자연스러운 문장을 구사하게 되는 건지는 잘 모르겠습니다. (뭔가 일률적인 문장이 생성되어야 할 거 같은데 또 그렇지 않은거 보면 뭔가 추가적으로 학습이 되는 무언가가 있는거 같기도 하고..?!)\n",
    "    \n",
    "    패딩을 하는 과정에서 pre / post 두개의 방식이 있는 것을 이전 노드에서 학습해서 알고있었는데, LSTM, GRU(순차적 진행방식)에서 pre-padding인 경우에 성능이 더 좋다고 배웠습니다. 그치만, 이번 노드에서는 post-paddinig 방식이 적용되었는데, 그 이유가 다음 단어의 예측을 통해 학습을 하는 것이기 때문에 뒷부분에 0으로 padding하는 것이 더 낫다고 생각을 했지만, 다시 생각해보면 LSTM 모델을 적용한건데, pre-padding 방식이 더 나은것이 아닐까 하는 생각을 하게 되었습니다. (pre로도 한번 진행을 해봐야 할 것 같다!)\n",
    "    \n",
    "    \n",
    "    \n",
    "### - 루브릭 평가 지표를 맞추기 위해 시도한 것들.\n",
    "    1) 가사 텍스트 생성 모델이 정상적으로 동작하는가? (텍스트 제네레이션 결과가 그럴듯한 문장으로 생성되는가?)\n",
    "    네. 처음 모델 학습이후 생성한 문장은 '<start> i m the one , yeah , i m the one <end> ' 이었고, 이후 추가적인 학습을 통해 생성한 문장은 '<start> i m not the only one <end> '이었습니다. 두 문장 모두 크게 이상하지 않은 문장이라고 생각됩니다.\n",
    "    \n",
    "    \n",
    "    2) 데이터의 전처리와 데이터셋 구성 과정이 체계적으로 진행되었는가? (특수문자 제거, 토크나이저 생성, 패딩 처리 등의 과정이 빠짐없이 진행되었는가?)\n",
    "    네. 특수문자 제거, 토크나이저 생성, 패딩 처리 모두 수행하였고, 데이터셋을 split해서 trainset으로 모델을 학습(loss : 1.03)시키고, 해당 모델에 대한 검증을 testset으로 확인(loss : 2.19)하였습니다.\n",
    "    \n",
    "    \n",
    "    3) 텍스트 생성모델이 안정적으로 학습되었는가? (텍스트 생성모델의 validation loss가 2.2 이하로 낮아졌는가?)\n",
    "    네. val loss가 2.2 이하로 낮아진 것을 확인하였습니다. (정상적으로 학습이 진행된 것 같습니다.)\n",
    "    \n",
    "    "
   ]
  }
 ],
 "metadata": {
  "kernelspec": {
   "display_name": "k2",
   "language": "python",
   "name": "k2"
  },
  "language_info": {
   "codemirror_mode": {
    "name": "ipython",
    "version": 3
   },
   "file_extension": ".py",
   "mimetype": "text/x-python",
   "name": "python",
   "nbconvert_exporter": "python",
   "pygments_lexer": "ipython3",
   "version": "3.7.9"
  }
 },
 "nbformat": 4,
 "nbformat_minor": 4
}
