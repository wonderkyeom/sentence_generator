{
 "cells": [
  {
   "cell_type": "code",
   "execution_count": 1,
   "metadata": {},
   "outputs": [
    {
     "data": {
      "text/plain": [
       "[PhysicalDevice(name='/physical_device:GPU:0', device_type='GPU')]"
      ]
     },
     "execution_count": 1,
     "metadata": {},
     "output_type": "execute_result"
    }
   ],
   "source": [
    "import tensorflow as tf\n",
    "tf.config.list_physical_devices('GPU')"
   ]
  },
  {
   "cell_type": "markdown",
   "metadata": {},
   "source": [
    "# Step 1, 2 데이터 다운로드 및 읽어오기"
   ]
  },
  {
   "cell_type": "code",
   "execution_count": 2,
   "metadata": {},
   "outputs": [
    {
     "name": "stdout",
     "output_type": "stream",
     "text": [
      "데이터 크기: 187088\n",
      "Examples:\n",
      " ['At first I was afraid', 'I was petrified', 'I kept thinking I could never live without you']\n"
     ]
    }
   ],
   "source": [
    "import glob\n",
    "import numpy as np\n",
    "import os\n",
    "import tensorflow as tf\n",
    "from tensorflow import keras\n",
    "\n",
    "txt_file_path = './lyricist/data/lyrics/*.txt'\n",
    "\n",
    "txt_list = glob.glob(txt_file_path)\n",
    "\n",
    "raw_corpus = []\n",
    "\n",
    "# 여러개의 txt 파일을 모두 읽어서 raw_corpus 에 담습니다.\n",
    "for txt_file in txt_list:\n",
    "    with open(txt_file, \"r\") as f:\n",
    "        raw = f.read().splitlines()\n",
    "        raw_corpus.extend(raw)\n",
    "\n",
    "print(\"데이터 크기:\", len(raw_corpus))\n",
    "print(\"Examples:\\n\", raw_corpus[:3])"
   ]
  },
  {
   "cell_type": "markdown",
   "metadata": {},
   "source": [
    "# Step 3. 데이터 정제"
   ]
  },
  {
   "cell_type": "code",
   "execution_count": 3,
   "metadata": {},
   "outputs": [
    {
     "name": "stdout",
     "output_type": "stream",
     "text": [
      "<start> this is sample sentence . <end>\n"
     ]
    }
   ],
   "source": [
    "import re\n",
    "\n",
    "def preprocess_sentence(sentence):\n",
    "    sentence = sentence.lower().strip()       # 소문자로 바꾸고 양쪽 공백을 삭제\n",
    "  \n",
    "    # 아래 3단계를 거쳐 sentence는 스페이스 1개를 delimeter로 하는 소문자 단어 시퀀스로 바뀝니다.\n",
    "    sentence = re.sub(r\"([?.!,¿])\", r\" \\1 \", sentence)        # 패턴의 특수문자를 만나면 특수문자 양쪽에 공백을 추가\n",
    "    sentence = re.sub(r'[\" \"]+', \" \", sentence)                  # 공백 패턴을 만나면 스페이스 1개로 치환\n",
    "    sentence = re.sub(r\"[^a-zA-Z?.!,¿]+\", \" \", sentence)  # a-zA-Z?.!,¿ 패턴을 제외한 모든 문자(공백문자까지도)를 스페이스 1개로 치환\n",
    "\n",
    "    sentence = sentence.strip()\n",
    "\n",
    "    sentence = '<start> ' + sentence + ' <end>'      # 이전 스텝에서 본 것처럼 문장 앞뒤로 <start>와 <end>를 단어처럼 붙여 줍니다\n",
    "    \n",
    "    return sentence\n",
    "\n",
    "print(preprocess_sentence(\"This @_is ;;;sample        sentence.\"))   # 이 문장이 어떻게 필터링되는지 확인해 보세요."
   ]
  },
  {
   "cell_type": "code",
   "execution_count": 4,
   "metadata": {},
   "outputs": [
    {
     "data": {
      "text/plain": [
       "['<start> at first i was afraid <end>',\n",
       " '<start> i was petrified <end>',\n",
       " '<start> i kept thinking i could never live without you <end>',\n",
       " '<start> by my side but then i spent so many nights <end>',\n",
       " '<start> just thinking how you ve done me wrong <end>',\n",
       " '<start> i grew strong <end>',\n",
       " '<start> i learned how to get along and so you re back <end>',\n",
       " '<start> from outer space <end>',\n",
       " '<start> i just walked in to find you <end>',\n",
       " '<start> here without that look upon your face i should have changed that fucking lock <end>']"
      ]
     },
     "execution_count": 4,
     "metadata": {},
     "output_type": "execute_result"
    }
   ],
   "source": [
    "corpus = []\n",
    "\n",
    "for sentence in raw_corpus:\n",
    "    new_sentence = preprocess_sentence(sentence)\n",
    "    if len(sentence) == 0: continue\n",
    "    if sentence[-1] == \":\": continue\n",
    "    \n",
    "    # if new_sentence.count(\" \") <= 13:\n",
    "    # if len(new_sentence.split()) <= 15: # without corpus having more than 15 token\n",
    "    #    corpus.append(new_sentence)\n",
    "    corpus.append(preprocess_sentence(sentence))\n",
    "    \n",
    "        \n",
    "corpus[:10]"
   ]
  },
  {
   "cell_type": "code",
   "execution_count": 5,
   "metadata": {},
   "outputs": [],
   "source": [
    "new_corpus = []\n",
    "for i in range(len(corpus)):\n",
    "    if len(corpus[i].split()) <= 15: # <Start> & <End>\n",
    "        new_corpus.append(corpus[i])"
   ]
  },
  {
   "cell_type": "code",
   "execution_count": 6,
   "metadata": {},
   "outputs": [
    {
     "data": {
      "text/plain": [
       "175749"
      ]
     },
     "execution_count": 6,
     "metadata": {},
     "output_type": "execute_result"
    }
   ],
   "source": [
    "len(corpus)"
   ]
  },
  {
   "cell_type": "code",
   "execution_count": 7,
   "metadata": {},
   "outputs": [
    {
     "data": {
      "text/plain": [
       "156013"
      ]
     },
     "execution_count": 7,
     "metadata": {},
     "output_type": "execute_result"
    }
   ],
   "source": [
    "len(new_corpus)"
   ]
  },
  {
   "cell_type": "code",
   "execution_count": 8,
   "metadata": {},
   "outputs": [
    {
     "name": "stdout",
     "output_type": "stream",
     "text": [
      "[[   2   70  248 ...    0    0    0]\n",
      " [   2    4   53 ...    0    0    0]\n",
      " [   2    4 1077 ...    0    0    0]\n",
      " ...\n",
      " [   2    1    4 ...    0    0    0]\n",
      " [   2  665    5 ...    0    0    0]\n",
      " [   2    1   70 ...    0    0    0]] <keras_preprocessing.text.Tokenizer object at 0x7f1c2d9d4090>\n"
     ]
    }
   ],
   "source": [
    "def tokenize(corpus):\n",
    "    # 텐서플로우에서 제공하는 Tokenizer 패키지를 생성\n",
    "    tokenizer = tf.keras.preprocessing.text.Tokenizer(\n",
    "        num_words=12000,  # 전체 단어의 개수 \n",
    "        filters=' ',    # 별도로 전처리 로직을 추가할 수 있습니다. 이번에는 사용하지 않겠습니다.\n",
    "        oov_token=\"<unk>\"  # out-of-vocabulary, 사전에 없었던 단어는 어떤 토큰으로 대체할지\n",
    "    )\n",
    "    tokenizer.fit_on_texts(new_corpus)   # 우리가 구축한 corpus로부터 Tokenizer가 사전을 자동구축하게 됩니다.\n",
    "\n",
    "    # 이후 tokenizer를 활용하여 모델에 입력할 데이터셋을 구축하게 됩니다.\n",
    "    tensor = tokenizer.texts_to_sequences(new_corpus)   # tokenizer는 구축한 사전으로부터 corpus를 해석해 Tensor로 변환합니다.\n",
    "\n",
    "    # 입력 데이터의 시퀀스 길이를 일정하게 맞추기 위한 padding  메소드를 제공합니다.\n",
    "    # maxlen의 디폴트값은 None입니다. 이 경우 corpus의 가장 긴 문장을 기준으로 시퀀스 길이가 맞춰집니다.\n",
    "    tensor = tf.keras.preprocessing.sequence.pad_sequences(tensor, padding='post', maxlen = 15)  \n",
    "\n",
    "    print(tensor,tokenizer)\n",
    "    return tensor, tokenizer\n",
    "\n",
    "tensor, tokenizer = tokenize(new_corpus)"
   ]
  },
  {
   "cell_type": "code",
   "execution_count": 9,
   "metadata": {},
   "outputs": [
    {
     "data": {
      "text/plain": [
       "array([[   2,   70,  248, ...,    0,    0,    0],\n",
       "       [   2,    4,   53, ...,    0,    0,    0],\n",
       "       [   2,    4, 1077, ...,    0,    0,    0],\n",
       "       ...,\n",
       "       [   2,    1,    4, ...,    0,    0,    0],\n",
       "       [   2,  665,    5, ...,    0,    0,    0],\n",
       "       [   2,    1,   70, ...,    0,    0,    0]], dtype=int32)"
      ]
     },
     "execution_count": 9,
     "metadata": {},
     "output_type": "execute_result"
    }
   ],
   "source": [
    "tensor"
   ]
  },
  {
   "cell_type": "code",
   "execution_count": 10,
   "metadata": {},
   "outputs": [
    {
     "data": {
      "text/plain": [
       "15"
      ]
     },
     "execution_count": 10,
     "metadata": {},
     "output_type": "execute_result"
    }
   ],
   "source": [
    "len(tensor[0])"
   ]
  },
  {
   "cell_type": "code",
   "execution_count": 11,
   "metadata": {},
   "outputs": [
    {
     "data": {
      "text/plain": [
       "<keras_preprocessing.text.Tokenizer at 0x7f1c2d9d4090>"
      ]
     },
     "execution_count": 11,
     "metadata": {},
     "output_type": "execute_result"
    }
   ],
   "source": [
    "tokenizer"
   ]
  },
  {
   "cell_type": "code",
   "execution_count": 12,
   "metadata": {},
   "outputs": [
    {
     "name": "stdout",
     "output_type": "stream",
     "text": [
      "[  2  70 248   4  53 708   3   0   0   0   0   0   0   0]\n",
      "[ 70 248   4  53 708   3   0   0   0   0   0   0   0   0]\n"
     ]
    }
   ],
   "source": [
    "src_input = tensor[:, :-1]  # tensor에서 마지막 토큰을 잘라내서 소스 문장을 생성합니다. 마지막 토큰은 <end>가 아니라 <pad>일 가능성이 높습니다.\n",
    "tgt_input = tensor[:, 1:]    # tensor에서 <start>를 잘라내서 타겟 문장을 생성합니다.\n",
    "\n",
    "print(src_input[0])\n",
    "print(tgt_input[0])"
   ]
  },
  {
   "cell_type": "markdown",
   "metadata": {},
   "source": [
    "# Step 4. 평가 데이터셋 분리"
   ]
  },
  {
   "cell_type": "code",
   "execution_count": 13,
   "metadata": {},
   "outputs": [],
   "source": [
    "from sklearn.model_selection import train_test_split\n",
    "\n",
    "enc_train, enc_val, dec_train, dec_val = train_test_split(src_input, tgt_input, test_size = 0.2, shuffle = True)"
   ]
  },
  {
   "cell_type": "code",
   "execution_count": 14,
   "metadata": {},
   "outputs": [
    {
     "data": {
      "text/plain": [
       "<BatchDataset shapes: ((256, 14), (256, 14)), types: (tf.int32, tf.int32)>"
      ]
     },
     "execution_count": 14,
     "metadata": {},
     "output_type": "execute_result"
    }
   ],
   "source": [
    "BUFFER_SIZE = len(src_input)\n",
    "BATCH_SIZE = 256\n",
    "steps_per_epoch = len(src_input) // BATCH_SIZE\n",
    "\n",
    "VOCAB_SIZE = tokenizer.num_words + 1    # tokenizer가 구축한 단어사전 내 12000개와, 여기 포함되지 않은 0:<pad>를 포함하여 12001개\n",
    "\n",
    "dataset = tf.data.Dataset.from_tensor_slices((enc_train, dec_train)).shuffle(BUFFER_SIZE)\n",
    "dataset = dataset.batch(BATCH_SIZE, drop_remainder=True)\n",
    "dataset"
   ]
  },
  {
   "cell_type": "code",
   "execution_count": 15,
   "metadata": {},
   "outputs": [
    {
     "name": "stdout",
     "output_type": "stream",
     "text": [
      "Source Train: (124810, 14)\n",
      "Target Train: (124810, 14)\n"
     ]
    }
   ],
   "source": [
    "print(\"Source Train:\", enc_train.shape)\n",
    "print(\"Target Train:\", dec_train.shape)"
   ]
  },
  {
   "cell_type": "markdown",
   "metadata": {},
   "source": [
    "# Step 5. 인공지능 만들기"
   ]
  },
  {
   "cell_type": "code",
   "execution_count": 16,
   "metadata": {},
   "outputs": [],
   "source": [
    "class TextGenerator(tf.keras.Model):\n",
    "    def __init__(self, vocab_size, embedding_size, hidden_size):\n",
    "        super(TextGenerator, self).__init__()\n",
    "        \n",
    "        self.embedding = tf.keras.layers.Embedding(vocab_size, embedding_size)\n",
    "        self.rnn_1 = tf.keras.layers.LSTM(hidden_size, return_sequences=True)\n",
    "        self.rnn_2 = tf.keras.layers.LSTM(hidden_size, return_sequences=True)\n",
    "        self.linear = tf.keras.layers.Dense(vocab_size)\n",
    "        \n",
    "    def call(self, x):\n",
    "        out = self.embedding(x)\n",
    "        out = self.rnn_1(out)\n",
    "        out = self.rnn_2(out)\n",
    "        out = self.linear(out)\n",
    "        \n",
    "        return out\n",
    "    \n",
    "embedding_size = 1024\n",
    "hidden_size = 2048\n",
    "model = TextGenerator(tokenizer.num_words + 1, embedding_size , hidden_size)"
   ]
  },
  {
   "cell_type": "code",
   "execution_count": 17,
   "metadata": {},
   "outputs": [
    {
     "data": {
      "text/plain": [
       "<tf.Tensor: shape=(256, 14, 12001), dtype=float32, numpy=\n",
       "array([[[ 4.24879196e-04, -3.52667179e-04, -4.41743759e-05, ...,\n",
       "         -6.05077112e-05, -1.44554433e-04,  2.19861431e-05],\n",
       "        [ 5.77011262e-04, -4.11642046e-04, -3.33665492e-04, ...,\n",
       "         -5.27908051e-05,  7.74923537e-05,  1.01573918e-04],\n",
       "        [ 4.67401173e-04, -5.13743180e-05, -5.64566872e-04, ...,\n",
       "          8.06369499e-05,  9.17721773e-05,  1.15778777e-04],\n",
       "        ...,\n",
       "        [-4.48708842e-03, -2.59088399e-03, -7.36272195e-04, ...,\n",
       "         -1.90768973e-03,  9.79187549e-04,  2.80507910e-03],\n",
       "        [-5.51397819e-03, -3.07061546e-03, -3.48084432e-04, ...,\n",
       "         -2.09188811e-03,  7.39099807e-04,  3.55630484e-03],\n",
       "        [-6.45506009e-03, -3.47290118e-03,  1.78765622e-05, ...,\n",
       "         -2.22155591e-03,  4.52774664e-04,  4.24486771e-03]],\n",
       "\n",
       "       [[ 4.24879196e-04, -3.52667179e-04, -4.41743759e-05, ...,\n",
       "         -6.05077112e-05, -1.44554433e-04,  2.19861431e-05],\n",
       "        [ 6.34410942e-04, -3.25211528e-04,  7.90142280e-04, ...,\n",
       "         -7.84800097e-04, -5.38145425e-04,  3.12166871e-04],\n",
       "        [ 6.72523805e-04, -1.37723677e-04,  1.17269333e-03, ...,\n",
       "         -9.03157517e-04, -5.47762145e-04,  4.34880203e-04],\n",
       "        ...,\n",
       "        [ 1.82704628e-03, -3.55040829e-04, -1.27664779e-03, ...,\n",
       "         -2.25651660e-03, -2.87741260e-03,  9.90596309e-05],\n",
       "        [ 2.36671348e-03, -3.27106885e-04, -1.44924922e-03, ...,\n",
       "         -2.46864744e-03, -2.67920783e-03, -3.85104446e-04],\n",
       "        [ 2.13982491e-03, -6.63515471e-04, -1.36424694e-03, ...,\n",
       "         -2.68995576e-03, -2.19608913e-03, -1.13234470e-04]],\n",
       "\n",
       "       [[ 4.24879196e-04, -3.52667179e-04, -4.41743759e-05, ...,\n",
       "         -6.05077112e-05, -1.44554433e-04,  2.19861431e-05],\n",
       "        [ 6.56548422e-04, -7.37562601e-04,  7.04995837e-05, ...,\n",
       "          7.87285535e-05, -6.90860383e-04,  3.89781490e-04],\n",
       "        [ 6.90959103e-04, -8.71448254e-04, -6.84762636e-05, ...,\n",
       "          1.07461557e-04, -7.30059983e-04,  6.71487418e-04],\n",
       "        ...,\n",
       "        [-1.28939585e-03,  5.33425715e-04,  2.81135261e-04, ...,\n",
       "         -6.30681345e-04,  1.34383328e-03, -4.01451747e-04],\n",
       "        [-2.00088415e-03,  1.63856603e-04,  2.91302480e-04, ...,\n",
       "         -1.26989186e-03,  1.59246894e-03,  1.73778040e-04],\n",
       "        [-2.90814717e-03, -3.43374850e-04,  3.56678123e-04, ...,\n",
       "         -1.84206071e-03,  1.66160369e-03,  9.65938438e-04]],\n",
       "\n",
       "       ...,\n",
       "\n",
       "       [[ 4.24879196e-04, -3.52667179e-04, -4.41743759e-05, ...,\n",
       "         -6.05077112e-05, -1.44554433e-04,  2.19861431e-05],\n",
       "        [ 6.93719019e-04, -4.48963576e-04, -2.92022247e-04, ...,\n",
       "         -3.29024944e-04, -7.06755382e-04, -3.87776934e-04],\n",
       "        [ 8.54909769e-04, -3.31043673e-04, -5.59058913e-04, ...,\n",
       "         -9.05647292e-04, -1.17640430e-03, -4.76297166e-04],\n",
       "        ...,\n",
       "        [-1.01396850e-04,  7.05354090e-04, -2.55702669e-03, ...,\n",
       "         -2.43795090e-04,  6.61727623e-04, -9.40897036e-04],\n",
       "        [-5.24183852e-04,  5.64781018e-04, -2.09673215e-03, ...,\n",
       "         -2.17389636e-04,  1.23450393e-03, -3.58328311e-04],\n",
       "        [-5.01373899e-04,  4.73688793e-04, -1.94286497e-03, ...,\n",
       "         -2.18988745e-04,  1.79926329e-03, -4.87577432e-04]],\n",
       "\n",
       "       [[ 4.24879196e-04, -3.52667179e-04, -4.41743759e-05, ...,\n",
       "         -6.05077112e-05, -1.44554433e-04,  2.19861431e-05],\n",
       "        [ 1.28529500e-04, -2.75426399e-04, -6.09261508e-04, ...,\n",
       "         -1.64822733e-04, -2.28497185e-04,  5.17483168e-05],\n",
       "        [-2.73437036e-04,  1.39531738e-04, -7.48126127e-04, ...,\n",
       "         -2.65455834e-04, -2.20180911e-04,  2.12185041e-04],\n",
       "        ...,\n",
       "        [-3.74609779e-04, -2.15751759e-04,  1.39764934e-05, ...,\n",
       "         -1.78059970e-03,  1.06232846e-03,  1.37314643e-03],\n",
       "        [-1.59269804e-03, -9.44009807e-04,  1.82699121e-04, ...,\n",
       "         -2.02026521e-03,  1.01145648e-03,  2.16679997e-03],\n",
       "        [-2.83028372e-03, -1.62961381e-03,  3.74600117e-04, ...,\n",
       "         -2.20828387e-03,  8.31281301e-04,  2.94160377e-03]],\n",
       "\n",
       "       [[ 4.24879196e-04, -3.52667179e-04, -4.41743759e-05, ...,\n",
       "         -6.05077112e-05, -1.44554433e-04,  2.19861431e-05],\n",
       "        [ 5.58363157e-04, -4.68044542e-04,  1.09811932e-04, ...,\n",
       "         -1.38217234e-04,  3.29784001e-04, -3.97313503e-04],\n",
       "        [ 5.35986037e-04, -8.33780039e-04, -4.42002289e-04, ...,\n",
       "         -1.00580386e-04,  8.07880017e-04, -8.78731254e-04],\n",
       "        ...,\n",
       "        [ 3.49470461e-03, -1.88455347e-03,  2.77040293e-04, ...,\n",
       "         -1.69577322e-03, -1.62353518e-03,  1.31377170e-03],\n",
       "        [ 2.89687561e-03, -2.17563915e-03,  5.35156578e-04, ...,\n",
       "         -1.73451263e-03, -1.40017469e-03,  1.67284918e-03],\n",
       "        [ 1.80526241e-03, -2.58163246e-03,  7.74076441e-04, ...,\n",
       "         -1.85686466e-03, -1.09373627e-03,  2.22941698e-03]]],\n",
       "      dtype=float32)>"
      ]
     },
     "execution_count": 17,
     "metadata": {},
     "output_type": "execute_result"
    }
   ],
   "source": [
    "for src_sample, tgt_sample in dataset.take(1): break\n",
    "model(src_sample)"
   ]
  },
  {
   "cell_type": "code",
   "execution_count": 18,
   "metadata": {},
   "outputs": [
    {
     "name": "stdout",
     "output_type": "stream",
     "text": [
      "Model: \"text_generator\"\n",
      "_________________________________________________________________\n",
      "Layer (type)                 Output Shape              Param #   \n",
      "=================================================================\n",
      "embedding (Embedding)        multiple                  12289024  \n",
      "_________________________________________________________________\n",
      "lstm (LSTM)                  multiple                  25174016  \n",
      "_________________________________________________________________\n",
      "lstm_1 (LSTM)                multiple                  33562624  \n",
      "_________________________________________________________________\n",
      "dense (Dense)                multiple                  24590049  \n",
      "=================================================================\n",
      "Total params: 95,615,713\n",
      "Trainable params: 95,615,713\n",
      "Non-trainable params: 0\n",
      "_________________________________________________________________\n"
     ]
    }
   ],
   "source": [
    "model.summary()"
   ]
  },
  {
   "cell_type": "code",
   "execution_count": 19,
   "metadata": {},
   "outputs": [
    {
     "name": "stdout",
     "output_type": "stream",
     "text": [
      "Epoch 1/10\n",
      "487/487 [==============================] - 207s 425ms/step - loss: 3.2760\n",
      "Epoch 2/10\n",
      "487/487 [==============================] - 208s 428ms/step - loss: 2.7492\n",
      "Epoch 3/10\n",
      "487/487 [==============================] - 207s 426ms/step - loss: 2.4654\n",
      "Epoch 4/10\n",
      "487/487 [==============================] - 207s 425ms/step - loss: 2.1928\n",
      "Epoch 5/10\n",
      "487/487 [==============================] - 207s 425ms/step - loss: 1.9287\n",
      "Epoch 6/10\n",
      "487/487 [==============================] - 207s 425ms/step - loss: 1.6796\n",
      "Epoch 7/10\n",
      "487/487 [==============================] - 208s 427ms/step - loss: 1.4596\n",
      "Epoch 8/10\n",
      "487/487 [==============================] - 208s 427ms/step - loss: 1.2781\n",
      "Epoch 9/10\n",
      "487/487 [==============================] - 208s 426ms/step - loss: 1.1402\n",
      "Epoch 10/10\n",
      "487/487 [==============================] - 207s 426ms/step - loss: 1.0481\n"
     ]
    },
    {
     "data": {
      "text/plain": [
       "<tensorflow.python.keras.callbacks.History at 0x7f1c29ec83d0>"
      ]
     },
     "execution_count": 19,
     "metadata": {},
     "output_type": "execute_result"
    }
   ],
   "source": [
    "optimizer = tf.keras.optimizers.Adam()\n",
    "loss = tf.keras.losses.SparseCategoricalCrossentropy(\n",
    "    from_logits=True,\n",
    "    reduction='none'\n",
    ")\n",
    "\n",
    "model.compile(loss=loss, optimizer=optimizer)\n",
    "model.fit(dataset, epochs=10)"
   ]
  },
  {
   "cell_type": "code",
   "execution_count": 20,
   "metadata": {},
   "outputs": [
    {
     "name": "stdout",
     "output_type": "stream",
     "text": [
      "976/976 - 24s - loss: 2.1625\n",
      "2.1625006198883057\n"
     ]
    }
   ],
   "source": [
    "# 모델 검증\n",
    "\n",
    "results = model.evaluate(enc_val, dec_val, verbose = 2)\n",
    "print(results)"
   ]
  },
  {
   "cell_type": "code",
   "execution_count": 21,
   "metadata": {},
   "outputs": [],
   "source": [
    "def generate_text(model, tokenizer, init_sentence=\"<start>\", max_len=20):\n",
    "    # 테스트를 위해서 입력받은 init_sentence도 일단 텐서로 변환합니다.\n",
    "    test_input = tokenizer.texts_to_sequences([init_sentence])\n",
    "    test_tensor = tf.convert_to_tensor(test_input, dtype=tf.int64)\n",
    "    end_token = tokenizer.word_index[\"<end>\"]\n",
    "\n",
    "    # 텍스트를 실제로 생성할때는 루프를 돌면서 단어 하나씩 생성해야 합니다. \n",
    "    while True:\n",
    "        predict = model(test_tensor)  # 입력받은 문장의 텐서를 입력합니다. \n",
    "        predict_word = tf.argmax(tf.nn.softmax(predict, axis=-1), axis=-1)[:, -1]   # 우리 모델이 예측한 마지막 단어가 바로 새롭게 생성한 단어가 됩니다. \n",
    "\n",
    "        # 우리 모델이 새롭게 예측한 단어를 입력 문장의 뒤에 붙여 줍니다. \n",
    "        test_tensor = tf.concat([test_tensor, tf.expand_dims(predict_word, axis=0)], axis=-1)\n",
    "\n",
    "        # 우리 모델이 <end>를 예측했거나, max_len에 도달하지 않았다면  while 루프를 또 돌면서 다음 단어를 예측해야 합니다.\n",
    "        if predict_word.numpy()[0] == end_token: break\n",
    "        if test_tensor.shape[1] >= max_len: break\n",
    "\n",
    "    generated = \"\"\n",
    "    # 생성된 tensor 안에 있는 word index를 tokenizer.index_word 사전을 통해 실제 단어로 하나씩 변환합니다. \n",
    "    for word_index in test_tensor[0].numpy():\n",
    "        generated += tokenizer.index_word[word_index] + \" \"\n",
    "\n",
    "    return generated   # 이것이 최종적으로 모델이 생성한 자연어 문장입니다."
   ]
  },
  {
   "cell_type": "code",
   "execution_count": 22,
   "metadata": {},
   "outputs": [
    {
     "data": {
      "text/plain": [
       "'<start> i love ma little nasty girl <end> '"
      ]
     },
     "execution_count": 22,
     "metadata": {},
     "output_type": "execute_result"
    }
   ],
   "source": [
    "generate_text(model, tokenizer, init_sentence=\"<start> i love\", max_len = 20)"
   ]
  },
  {
   "cell_type": "markdown",
   "metadata": {},
   "source": [
    "# 회고\n",
    "\n",
    "### - 이번 프로젝트에서 어려웠던 점.\n",
    "    역시나 자연어처리쪽은 어렵다는 것을 다시 한번 느끼게 되었습니다. (나랑 안맞아..)\n",
    "    RNN 계열의 모델 원리를 이해하고 구성해보는 과정에서 저번 CNN 때와 마찬가지로 알고리즘 자체에 대한 깊은 이해가 전제된다면 전반적인 processing이 더 잘 이해될 것 같다는 느낌이 들었습니다. \n",
    "    \n",
    "    \n",
    "### - 프로젝트를 진행하면서 알아낸 점 혹은 아직 모호한 점.\n",
    "    처음에 dataset을 split 하지 않고 학습을 진행해보았는데, 예상했던 대로 dataset의 크기가 클 수록 loss 측면에서 더 나은 학습을 하는 것 같았습니다.\n",
    "    현재 모델의 loss가 trainset에 대해서는 1.0 초반대가 나오고, testset에 대해서는 2.19 정도가 나오는데, 아마 데이터셋의 크기 자체가 더 커지게 된다면 loss 자체를 더 줄일 수 있을 것으로 생각됩니다.\n",
    "    \n",
    "    RNN 알고리즘이 어떻게 동작하는지는 어느정도 이해를 하게 되었습니다. 하지만, 단순히 확률값에 근거해서 다음 단어를 예측하는 방식이 어떻게 GPT-3가 사람이 쓰는 문장처럼 자연스러운 문장을 구사하게 되는 건지는 잘 모르겠습니다. (뭔가 일률적인 문장이 생성되어야 할 거 같은데 또 그렇지 않은거 보면 뭔가 추가적으로 학습이 되는 무언가가 있는거 같기도 하고..?!)\n",
    "    \n",
    "    패딩을 하는 과정에서 pre / post 두개의 방식이 있는 것을 이전 노드에서 학습해서 알고있었는데, LSTM, GRU(순차적 진행방식)에서 pre-padding인 경우에 성능이 더 좋다고 배웠습니다. 그치만, 이번 노드에서는 post-paddinig 방식이 적용되었는데, 그 이유가 다음 단어의 예측을 통해 학습을 하는 것이기 때문에 뒷부분에 0으로 padding하는 것이 더 낫다고 생각을 했지만, 다시 생각해보면 LSTM 모델을 적용한건데, pre-padding 방식이 더 나은것이 아닐까 하는 생각을 하게 되었습니다. (pre로도 한번 진행을 해봐야 할 것 같다!)\n",
    "    \n",
    "    \n",
    "    \n",
    "### - 루브릭 평가 지표를 맞추기 위해 시도한 것들.\n",
    "    1) 가사 텍스트 생성 모델이 정상적으로 동작하는가? (텍스트 제네레이션 결과가 그럴듯한 문장으로 생성되는가?)\n",
    "    네. 처음 모델 학습이후 생성한 문장은 '<start> i m the one , yeah , i m the one <end> ' 이었고, 이후 추가적인 학습을 통해 생성한 문장은 '<start> i m not the only one <end> '이었습니다. 두 문장 모두 크게 이상하지 않은 문장이라고 생각됩니다.\n",
    "    \n",
    "    \n",
    "    2) 데이터의 전처리와 데이터셋 구성 과정이 체계적으로 진행되었는가? (특수문자 제거, 토크나이저 생성, 패딩 처리 등의 과정이 빠짐없이 진행되었는가?)\n",
    "    네. 특수문자 제거, 토크나이저 생성, 패딩 처리 모두 수행하였고, 데이터셋을 split해서 trainset으로 모델을 학습(loss : 1.03)시키고, 해당 모델에 대한 검증을 testset으로 확인(loss : 2.19)하였습니다.\n",
    "    \n",
    "    \n",
    "    3) 텍스트 생성모델이 안정적으로 학습되었는가? (텍스트 생성모델의 validation loss가 2.2 이하로 낮아졌는가?)\n",
    "    네. val loss가 2.2 이하로 낮아진 것을 확인하였습니다. (정상적으로 학습이 진행된 것 같습니다.)\n",
    "    \n",
    "    "
   ]
  }
 ],
 "metadata": {
  "kernelspec": {
   "display_name": "k2",
   "language": "python",
   "name": "k2"
  },
  "language_info": {
   "codemirror_mode": {
    "name": "ipython",
    "version": 3
   },
   "file_extension": ".py",
   "mimetype": "text/x-python",
   "name": "python",
   "nbconvert_exporter": "python",
   "pygments_lexer": "ipython3",
   "version": "3.7.9"
  }
 },
 "nbformat": 4,
 "nbformat_minor": 4
}
