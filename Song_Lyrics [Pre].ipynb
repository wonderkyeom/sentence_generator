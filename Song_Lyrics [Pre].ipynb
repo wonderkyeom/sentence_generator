{
 "cells": [
  {
   "cell_type": "code",
   "execution_count": 1,
   "metadata": {},
   "outputs": [
    {
     "data": {
      "text/plain": [
       "[PhysicalDevice(name='/physical_device:GPU:0', device_type='GPU')]"
      ]
     },
     "execution_count": 1,
     "metadata": {},
     "output_type": "execute_result"
    }
   ],
   "source": [
    "import tensorflow as tf\n",
    "tf.config.list_physical_devices('GPU')"
   ]
  },
  {
   "cell_type": "markdown",
   "metadata": {},
   "source": [
    "# Step 1, 2 데이터 다운로드 및 읽어오기"
   ]
  },
  {
   "cell_type": "code",
   "execution_count": 2,
   "metadata": {},
   "outputs": [
    {
     "name": "stdout",
     "output_type": "stream",
     "text": [
      "데이터 크기: 187088\n",
      "Examples:\n",
      " ['At first I was afraid', 'I was petrified', 'I kept thinking I could never live without you']\n"
     ]
    }
   ],
   "source": [
    "import glob\n",
    "import numpy as np\n",
    "import os\n",
    "import tensorflow as tf\n",
    "from tensorflow import keras\n",
    "\n",
    "txt_file_path = './lyricist/data/lyrics/*.txt'\n",
    "\n",
    "txt_list = glob.glob(txt_file_path)\n",
    "\n",
    "raw_corpus = []\n",
    "\n",
    "# 여러개의 txt 파일을 모두 읽어서 raw_corpus 에 담습니다.\n",
    "for txt_file in txt_list:\n",
    "    with open(txt_file, \"r\") as f:\n",
    "        raw = f.read().splitlines()\n",
    "        raw_corpus.extend(raw)\n",
    "\n",
    "print(\"데이터 크기:\", len(raw_corpus))\n",
    "print(\"Examples:\\n\", raw_corpus[:3])"
   ]
  },
  {
   "cell_type": "markdown",
   "metadata": {},
   "source": [
    "# Step 3. 데이터 정제"
   ]
  },
  {
   "cell_type": "code",
   "execution_count": 3,
   "metadata": {},
   "outputs": [
    {
     "name": "stdout",
     "output_type": "stream",
     "text": [
      "<start> this is sample sentence . <end>\n"
     ]
    }
   ],
   "source": [
    "import re\n",
    "\n",
    "def preprocess_sentence(sentence):\n",
    "    sentence = sentence.lower().strip()       # 소문자로 바꾸고 양쪽 공백을 삭제\n",
    "  \n",
    "    # 아래 3단계를 거쳐 sentence는 스페이스 1개를 delimeter로 하는 소문자 단어 시퀀스로 바뀝니다.\n",
    "    sentence = re.sub(r\"([?.!,¿])\", r\" \\1 \", sentence)        # 패턴의 특수문자를 만나면 특수문자 양쪽에 공백을 추가\n",
    "    sentence = re.sub(r'[\" \"]+', \" \", sentence)                  # 공백 패턴을 만나면 스페이스 1개로 치환\n",
    "    sentence = re.sub(r\"[^a-zA-Z?.!,¿]+\", \" \", sentence)  # a-zA-Z?.!,¿ 패턴을 제외한 모든 문자(공백문자까지도)를 스페이스 1개로 치환\n",
    "\n",
    "    sentence = sentence.strip()\n",
    "\n",
    "    sentence = '<start> ' + sentence + ' <end>'      # 이전 스텝에서 본 것처럼 문장 앞뒤로 <start>와 <end>를 단어처럼 붙여 줍니다\n",
    "    \n",
    "    return sentence\n",
    "\n",
    "print(preprocess_sentence(\"This @_is ;;;sample        sentence.\"))   # 이 문장이 어떻게 필터링되는지 확인해 보세요."
   ]
  },
  {
   "cell_type": "code",
   "execution_count": 4,
   "metadata": {},
   "outputs": [
    {
     "data": {
      "text/plain": [
       "['<start> at first i was afraid <end>',\n",
       " '<start> i was petrified <end>',\n",
       " '<start> i kept thinking i could never live without you <end>',\n",
       " '<start> by my side but then i spent so many nights <end>',\n",
       " '<start> just thinking how you ve done me wrong <end>',\n",
       " '<start> i grew strong <end>',\n",
       " '<start> i learned how to get along and so you re back <end>',\n",
       " '<start> from outer space <end>',\n",
       " '<start> i just walked in to find you <end>',\n",
       " '<start> here without that look upon your face i should have changed that fucking lock <end>']"
      ]
     },
     "execution_count": 4,
     "metadata": {},
     "output_type": "execute_result"
    }
   ],
   "source": [
    "corpus = []\n",
    "\n",
    "for sentence in raw_corpus:\n",
    "    new_sentence = preprocess_sentence(sentence)\n",
    "    if len(new_sentence) == 0: continue\n",
    "    if new_sentence[-1] == \":\": continue\n",
    "    \n",
    "    # if new_sentence.count(\" \") <= 13:\n",
    "    # if len(new_sentence.split()) <= 15: # without corpus having more than 15 token\n",
    "    #    corpus.append(new_sentence)\n",
    "    corpus.append(preprocess_sentence(sentence))\n",
    "    \n",
    "        \n",
    "corpus[:10]"
   ]
  },
  {
   "cell_type": "code",
   "execution_count": 5,
   "metadata": {},
   "outputs": [],
   "source": [
    "new_corpus = []\n",
    "for i in range(len(corpus) - 1):\n",
    "    if len(corpus[i].split()) <= 13: # <Start> & <End>\n",
    "        new_corpus.append(corpus[i])"
   ]
  },
  {
   "cell_type": "code",
   "execution_count": 6,
   "metadata": {},
   "outputs": [
    {
     "data": {
      "text/plain": [
       "187088"
      ]
     },
     "execution_count": 6,
     "metadata": {},
     "output_type": "execute_result"
    }
   ],
   "source": [
    "len(corpus)"
   ]
  },
  {
   "cell_type": "code",
   "execution_count": 7,
   "metadata": {},
   "outputs": [
    {
     "data": {
      "text/plain": [
       "153375"
      ]
     },
     "execution_count": 7,
     "metadata": {},
     "output_type": "execute_result"
    }
   ],
   "source": [
    "len(new_corpus)"
   ]
  },
  {
   "cell_type": "code",
   "execution_count": 8,
   "metadata": {},
   "outputs": [
    {
     "name": "stdout",
     "output_type": "stream",
     "text": [
      "[[   0    0    0 ...   52  705    3]\n",
      " [   0    0    0 ...   52 5859    3]\n",
      " [   0    0    0 ...  259    7    3]\n",
      " ...\n",
      " [   0    0    0 ...    1  470    3]\n",
      " [   0    0    0 ...  887    5    3]\n",
      " [   0    0    0 ... 1895   60    3]] <keras_preprocessing.text.Tokenizer object at 0x7fbd057ea190>\n"
     ]
    }
   ],
   "source": [
    "def tokenize(corpus):\n",
    "    # 텐서플로우에서 제공하는 Tokenizer 패키지를 생성\n",
    "    tokenizer = tf.keras.preprocessing.text.Tokenizer(\n",
    "        num_words=12000,  # 전체 단어의 개수 \n",
    "        filters=' ',    # 별도로 전처리 로직을 추가할 수 있습니다. 이번에는 사용하지 않겠습니다.\n",
    "        oov_token=\"<unk>\"  # out-of-vocabulary, 사전에 없었던 단어는 어떤 토큰으로 대체할지\n",
    "    )\n",
    "    tokenizer.fit_on_texts(new_corpus)   # 우리가 구축한 corpus로부터 Tokenizer가 사전을 자동구축하게 됩니다.\n",
    "\n",
    "    # 이후 tokenizer를 활용하여 모델에 입력할 데이터셋을 구축하게 됩니다.\n",
    "    tensor = tokenizer.texts_to_sequences(new_corpus)   # tokenizer는 구축한 사전으로부터 corpus를 해석해 Tensor로 변환합니다.\n",
    "\n",
    "    # 입력 데이터의 시퀀스 길이를 일정하게 맞추기 위한 padding  메소드를 제공합니다.\n",
    "    # maxlen의 디폴트값은 None입니다. 이 경우 corpus의 가장 긴 문장을 기준으로 시퀀스 길이가 맞춰집니다.\n",
    "    tensor = tf.keras.preprocessing.sequence.pad_sequences(tensor, padding='pre', maxlen = 15)  \n",
    "\n",
    "    print(tensor,tokenizer)\n",
    "    return tensor, tokenizer\n",
    "\n",
    "tensor, tokenizer = tokenize(corpus)"
   ]
  },
  {
   "cell_type": "code",
   "execution_count": 9,
   "metadata": {},
   "outputs": [
    {
     "data": {
      "text/plain": [
       "array([[   0,    0,    0, ...,   52,  705,    3],\n",
       "       [   0,    0,    0, ...,   52, 5859,    3],\n",
       "       [   0,    0,    0, ...,  259,    7,    3],\n",
       "       ...,\n",
       "       [   0,    0,    0, ...,    1,  470,    3],\n",
       "       [   0,    0,    0, ...,  887,    5,    3],\n",
       "       [   0,    0,    0, ..., 1895,   60,    3]], dtype=int32)"
      ]
     },
     "execution_count": 9,
     "metadata": {},
     "output_type": "execute_result"
    }
   ],
   "source": [
    "tensor"
   ]
  },
  {
   "cell_type": "code",
   "execution_count": 10,
   "metadata": {},
   "outputs": [
    {
     "data": {
      "text/plain": [
       "15"
      ]
     },
     "execution_count": 10,
     "metadata": {},
     "output_type": "execute_result"
    }
   ],
   "source": [
    "len(tensor[0])"
   ]
  },
  {
   "cell_type": "code",
   "execution_count": 11,
   "metadata": {},
   "outputs": [
    {
     "data": {
      "text/plain": [
       "<keras_preprocessing.text.Tokenizer at 0x7fbd057ea190>"
      ]
     },
     "execution_count": 11,
     "metadata": {},
     "output_type": "execute_result"
    }
   ],
   "source": [
    "tokenizer"
   ]
  },
  {
   "cell_type": "code",
   "execution_count": 12,
   "metadata": {},
   "outputs": [
    {
     "name": "stdout",
     "output_type": "stream",
     "text": [
      "[  0   0   0   0   0   0   0   0   2  72 254   4  52 705]\n",
      "[  0   0   0   0   0   0   0   2  72 254   4  52 705   3]\n"
     ]
    }
   ],
   "source": [
    "src_input = tensor[:, :-1]  # tensor에서 마지막 토큰을 잘라내서 소스 문장을 생성합니다. 마지막 토큰은 <end>가 아니라 <pad>일 가능성이 높습니다.\n",
    "tgt_input = tensor[:, 1:]    # tensor에서 <start>를 잘라내서 타겟 문장을 생성합니다.\n",
    "\n",
    "print(src_input[0])\n",
    "print(tgt_input[0])"
   ]
  },
  {
   "cell_type": "markdown",
   "metadata": {},
   "source": [
    "# Step 4. 평가 데이터셋 분리"
   ]
  },
  {
   "cell_type": "code",
   "execution_count": 13,
   "metadata": {},
   "outputs": [],
   "source": [
    "from sklearn.model_selection import train_test_split\n",
    "\n",
    "enc_train, enc_val, dec_train, dec_val = train_test_split(src_input, tgt_input, test_size = 0.2, shuffle = True)"
   ]
  },
  {
   "cell_type": "code",
   "execution_count": 14,
   "metadata": {},
   "outputs": [
    {
     "data": {
      "text/plain": [
       "<BatchDataset shapes: ((256, 14), (256, 14)), types: (tf.int32, tf.int32)>"
      ]
     },
     "execution_count": 14,
     "metadata": {},
     "output_type": "execute_result"
    }
   ],
   "source": [
    "BUFFER_SIZE = len(src_input)\n",
    "BATCH_SIZE = 256\n",
    "steps_per_epoch = len(src_input) // BATCH_SIZE\n",
    "\n",
    "VOCAB_SIZE = tokenizer.num_words + 1    # tokenizer가 구축한 단어사전 내 12000개와, 여기 포함되지 않은 0:<pad>를 포함하여 12001개\n",
    "\n",
    "dataset = tf.data.Dataset.from_tensor_slices((enc_train, dec_train)).shuffle(BUFFER_SIZE)\n",
    "dataset = dataset.batch(BATCH_SIZE, drop_remainder=True)\n",
    "dataset"
   ]
  },
  {
   "cell_type": "code",
   "execution_count": 15,
   "metadata": {},
   "outputs": [
    {
     "name": "stdout",
     "output_type": "stream",
     "text": [
      "Source Train: (122700, 14)\n",
      "Target Train: (122700, 14)\n"
     ]
    }
   ],
   "source": [
    "print(\"Source Train:\", enc_train.shape)\n",
    "print(\"Target Train:\", dec_train.shape)"
   ]
  },
  {
   "cell_type": "markdown",
   "metadata": {},
   "source": [
    "# Step 5. 인공지능 만들기"
   ]
  },
  {
   "cell_type": "code",
   "execution_count": 16,
   "metadata": {},
   "outputs": [],
   "source": [
    "class TextGenerator(tf.keras.Model):\n",
    "    def __init__(self, vocab_size, embedding_size, hidden_size):\n",
    "        super(TextGenerator, self).__init__()\n",
    "        \n",
    "        self.embedding = tf.keras.layers.Embedding(vocab_size, embedding_size)\n",
    "        self.rnn_1 = tf.keras.layers.LSTM(hidden_size, return_sequences=True)\n",
    "        self.rnn_2 = tf.keras.layers.LSTM(hidden_size, return_sequences=True)\n",
    "        self.linear = tf.keras.layers.Dense(vocab_size)\n",
    "        \n",
    "    def call(self, x):\n",
    "        out = self.embedding(x)\n",
    "        out = self.rnn_1(out)\n",
    "        out = self.rnn_2(out)\n",
    "        out = self.linear(out)\n",
    "        \n",
    "        return out\n",
    "    \n",
    "embedding_size = 256\n",
    "hidden_size = 1024\n",
    "model = TextGenerator(tokenizer.num_words + 1, embedding_size , hidden_size)"
   ]
  },
  {
   "cell_type": "code",
   "execution_count": 17,
   "metadata": {},
   "outputs": [
    {
     "data": {
      "text/plain": [
       "<tf.Tensor: shape=(256, 14, 12001), dtype=float32, numpy=\n",
       "array([[[-3.6643352e-04, -1.1438113e-04, -1.8336905e-05, ...,\n",
       "         -1.4537302e-04,  1.3057933e-04, -1.2463293e-04],\n",
       "        [-8.9791755e-04, -3.1397751e-04, -5.3519409e-05, ...,\n",
       "         -3.2656293e-04,  3.2892224e-04, -2.9461391e-04],\n",
       "        [-1.4783415e-03, -5.7069195e-04, -1.0073532e-04, ...,\n",
       "         -4.9852324e-04,  5.5792753e-04, -4.7033458e-04],\n",
       "        ...,\n",
       "        [-1.1056314e-03, -1.5304888e-04, -8.1393501e-04, ...,\n",
       "         -2.6575386e-04,  5.1886658e-04, -3.9156707e-04],\n",
       "        [-7.1244483e-04,  2.8571390e-05, -1.1897177e-03, ...,\n",
       "         -4.2006979e-04,  5.2934175e-04, -1.9000357e-04],\n",
       "        [-2.6484576e-04, -4.7747038e-05, -1.3833991e-03, ...,\n",
       "         -5.4268283e-04,  6.2855869e-04,  1.3353548e-04]],\n",
       "\n",
       "       [[-3.6643352e-04, -1.1438113e-04, -1.8336905e-05, ...,\n",
       "         -1.4537302e-04,  1.3057933e-04, -1.2463293e-04],\n",
       "        [-8.9791755e-04, -3.1397751e-04, -5.3519409e-05, ...,\n",
       "         -3.2656293e-04,  3.2892224e-04, -2.9461391e-04],\n",
       "        [-1.4783415e-03, -5.7069195e-04, -1.0073532e-04, ...,\n",
       "         -4.9852324e-04,  5.5792753e-04, -4.7033458e-04],\n",
       "        ...,\n",
       "        [-1.4832821e-03, -2.1262583e-03,  1.7212983e-04, ...,\n",
       "         -6.0498336e-04,  1.1201100e-03,  2.3700729e-04],\n",
       "        [-1.3536680e-03, -2.0585605e-03, -2.3496736e-04, ...,\n",
       "         -5.1930756e-04,  8.5783040e-04,  3.5569939e-04],\n",
       "        [-1.0847516e-03, -1.9771475e-03, -5.2253605e-04, ...,\n",
       "         -4.2024709e-04,  9.1221445e-04,  3.3284636e-04]],\n",
       "\n",
       "       [[-3.6643352e-04, -1.1438113e-04, -1.8336905e-05, ...,\n",
       "         -1.4537302e-04,  1.3057933e-04, -1.2463293e-04],\n",
       "        [-8.9791755e-04, -3.1397751e-04, -5.3519409e-05, ...,\n",
       "         -3.2656293e-04,  3.2892224e-04, -2.9461391e-04],\n",
       "        [-1.4783415e-03, -5.7069195e-04, -1.0073532e-04, ...,\n",
       "         -4.9852324e-04,  5.5792753e-04, -4.7033458e-04],\n",
       "        ...,\n",
       "        [-1.8385354e-03, -1.3918503e-03, -1.2193877e-03, ...,\n",
       "         -1.4315888e-03,  9.3080045e-04, -8.2178909e-04],\n",
       "        [-1.2211277e-03, -1.2877049e-03, -1.0594275e-03, ...,\n",
       "         -1.4403129e-03,  8.9336198e-04, -6.1502814e-04],\n",
       "        [-7.5005728e-04, -1.1203643e-03, -9.5358654e-04, ...,\n",
       "         -1.2755715e-03,  8.6223311e-04, -6.1216543e-04]],\n",
       "\n",
       "       ...,\n",
       "\n",
       "       [[-3.6643352e-04, -1.1438113e-04, -1.8336905e-05, ...,\n",
       "         -1.4537302e-04,  1.3057933e-04, -1.2463293e-04],\n",
       "        [-8.9791755e-04, -3.1397751e-04, -5.3519409e-05, ...,\n",
       "         -3.2656293e-04,  3.2892224e-04, -2.9461391e-04],\n",
       "        [-1.4783415e-03, -5.7069195e-04, -1.0073532e-04, ...,\n",
       "         -4.9852324e-04,  5.5792753e-04, -4.7033458e-04],\n",
       "        ...,\n",
       "        [-1.0254438e-03, -1.0835850e-03, -1.0239091e-03, ...,\n",
       "         -1.5389180e-03,  1.8170644e-03, -1.1345653e-05],\n",
       "        [-6.0245534e-04, -7.7090279e-04, -1.0505792e-03, ...,\n",
       "         -1.4715219e-03,  1.6485266e-03, -4.9042868e-05],\n",
       "        [-2.4549448e-04, -4.2113688e-04, -1.0294346e-03, ...,\n",
       "         -1.0661801e-03,  1.4412265e-03,  4.1903550e-05]],\n",
       "\n",
       "       [[-3.6643352e-04, -1.1438113e-04, -1.8336905e-05, ...,\n",
       "         -1.4537302e-04,  1.3057933e-04, -1.2463293e-04],\n",
       "        [-8.9791755e-04, -3.1397751e-04, -5.3519409e-05, ...,\n",
       "         -3.2656293e-04,  3.2892224e-04, -2.9461391e-04],\n",
       "        [-1.4783415e-03, -5.7069195e-04, -1.0073532e-04, ...,\n",
       "         -4.9852324e-04,  5.5792753e-04, -4.7033458e-04],\n",
       "        ...,\n",
       "        [-1.5421804e-03, -1.2569421e-03, -7.5946523e-06, ...,\n",
       "         -1.9113184e-04,  1.0016565e-03,  2.1017149e-04],\n",
       "        [-1.4319539e-03, -1.1550511e-03, -7.6613695e-05, ...,\n",
       "          4.8768557e-05,  6.2874169e-04,  3.1237293e-04],\n",
       "        [-1.4665625e-03, -1.3573967e-03,  7.1396348e-06, ...,\n",
       "          1.2897278e-04,  3.4326827e-04,  2.8338184e-04]],\n",
       "\n",
       "       [[-3.6643352e-04, -1.1438113e-04, -1.8336905e-05, ...,\n",
       "         -1.4537302e-04,  1.3057933e-04, -1.2463293e-04],\n",
       "        [-8.9791755e-04, -3.1397751e-04, -5.3519409e-05, ...,\n",
       "         -3.2656293e-04,  3.2892224e-04, -2.9461391e-04],\n",
       "        [-1.4783415e-03, -5.7069195e-04, -1.0073532e-04, ...,\n",
       "         -4.9852324e-04,  5.5792753e-04, -4.7033458e-04],\n",
       "        ...,\n",
       "        [-3.1922846e-03, -2.8207733e-03, -3.9112204e-04, ...,\n",
       "         -1.2776614e-03,  2.6737887e-03, -1.1273049e-03],\n",
       "        [-2.5490553e-03, -2.7354984e-03, -1.4622703e-04, ...,\n",
       "         -7.3248032e-04,  2.6558388e-03, -9.0285932e-04],\n",
       "        [-2.0018409e-03, -2.5714566e-03,  1.3471926e-04, ...,\n",
       "          2.3437555e-05,  2.4254718e-03, -6.3604466e-04]]], dtype=float32)>"
      ]
     },
     "execution_count": 17,
     "metadata": {},
     "output_type": "execute_result"
    }
   ],
   "source": [
    "for src_sample, tgt_sample in dataset.take(1): break\n",
    "model(src_sample)"
   ]
  },
  {
   "cell_type": "code",
   "execution_count": 18,
   "metadata": {},
   "outputs": [
    {
     "name": "stdout",
     "output_type": "stream",
     "text": [
      "Model: \"text_generator\"\n",
      "_________________________________________________________________\n",
      "Layer (type)                 Output Shape              Param #   \n",
      "=================================================================\n",
      "embedding (Embedding)        multiple                  3072256   \n",
      "_________________________________________________________________\n",
      "lstm (LSTM)                  multiple                  5246976   \n",
      "_________________________________________________________________\n",
      "lstm_1 (LSTM)                multiple                  8392704   \n",
      "_________________________________________________________________\n",
      "dense (Dense)                multiple                  12301025  \n",
      "=================================================================\n",
      "Total params: 29,012,961\n",
      "Trainable params: 29,012,961\n",
      "Non-trainable params: 0\n",
      "_________________________________________________________________\n"
     ]
    }
   ],
   "source": [
    "model.summary()"
   ]
  },
  {
   "cell_type": "code",
   "execution_count": 19,
   "metadata": {},
   "outputs": [
    {
     "name": "stdout",
     "output_type": "stream",
     "text": [
      "Epoch 1/30\n",
      "479/479 [==============================] - 59s 123ms/step - loss: 3.3158\n",
      "Epoch 2/30\n",
      "479/479 [==============================] - 58s 122ms/step - loss: 2.8960\n",
      "Epoch 3/30\n",
      "479/479 [==============================] - 62s 129ms/step - loss: 2.8480\n",
      "Epoch 4/30\n",
      "479/479 [==============================] - 59s 123ms/step - loss: 2.7408\n",
      "Epoch 5/30\n",
      "479/479 [==============================] - 60s 126ms/step - loss: 2.6654\n",
      "Epoch 6/30\n",
      "479/479 [==============================] - 59s 123ms/step - loss: 2.6344\n",
      "Epoch 7/30\n",
      "479/479 [==============================] - 60s 125ms/step - loss: 2.5662\n",
      "Epoch 8/30\n",
      "479/479 [==============================] - 60s 125ms/step - loss: 2.5049\n",
      "Epoch 9/30\n",
      "479/479 [==============================] - 61s 128ms/step - loss: 2.4447\n",
      "Epoch 10/30\n",
      "479/479 [==============================] - 61s 127ms/step - loss: 2.3938\n",
      "Epoch 11/30\n",
      "479/479 [==============================] - 59s 124ms/step - loss: 2.3452\n",
      "Epoch 12/30\n",
      "479/479 [==============================] - 59s 124ms/step - loss: 2.2965\n",
      "Epoch 13/30\n",
      "479/479 [==============================] - 60s 125ms/step - loss: 2.2459\n",
      "Epoch 14/30\n",
      "479/479 [==============================] - 60s 125ms/step - loss: 2.1962\n",
      "Epoch 15/30\n",
      "479/479 [==============================] - 60s 125ms/step - loss: 2.1471\n",
      "Epoch 16/30\n",
      "479/479 [==============================] - 59s 124ms/step - loss: 2.0995\n",
      "Epoch 17/30\n",
      "479/479 [==============================] - 59s 124ms/step - loss: 2.0528\n",
      "Epoch 18/30\n",
      "479/479 [==============================] - 59s 124ms/step - loss: 2.0072\n",
      "Epoch 19/30\n",
      "479/479 [==============================] - 59s 124ms/step - loss: 1.9634\n",
      "Epoch 20/30\n",
      "479/479 [==============================] - 59s 124ms/step - loss: 1.9193\n",
      "Epoch 21/30\n",
      "479/479 [==============================] - 59s 124ms/step - loss: 1.8774\n",
      "Epoch 22/30\n",
      "479/479 [==============================] - 59s 124ms/step - loss: 1.8365\n",
      "Epoch 23/30\n",
      "479/479 [==============================] - 59s 123ms/step - loss: 1.7975\n",
      "Epoch 24/30\n",
      "479/479 [==============================] - 59s 124ms/step - loss: 1.7592\n",
      "Epoch 25/30\n",
      "479/479 [==============================] - 59s 123ms/step - loss: 1.7219\n",
      "Epoch 26/30\n",
      "479/479 [==============================] - 59s 123ms/step - loss: 1.6858\n",
      "Epoch 27/30\n",
      "479/479 [==============================] - 59s 123ms/step - loss: 1.6512\n",
      "Epoch 28/30\n",
      "479/479 [==============================] - 59s 124ms/step - loss: 1.6168\n",
      "Epoch 29/30\n",
      "479/479 [==============================] - 59s 123ms/step - loss: 1.5846\n",
      "Epoch 30/30\n",
      "479/479 [==============================] - 59s 123ms/step - loss: 1.5523\n"
     ]
    },
    {
     "data": {
      "text/plain": [
       "<tensorflow.python.keras.callbacks.History at 0x7fbd01eafc90>"
      ]
     },
     "execution_count": 19,
     "metadata": {},
     "output_type": "execute_result"
    }
   ],
   "source": [
    "optimizer = tf.keras.optimizers.Adam()\n",
    "loss = tf.keras.losses.SparseCategoricalCrossentropy(\n",
    "    from_logits=True,\n",
    "    reduction='none'\n",
    ")\n",
    "\n",
    "model.compile(loss=loss, optimizer=optimizer)\n",
    "model.fit(dataset, epochs=30)"
   ]
  },
  {
   "cell_type": "code",
   "execution_count": 20,
   "metadata": {},
   "outputs": [
    {
     "name": "stdout",
     "output_type": "stream",
     "text": [
      "959/959 - 8s - loss: 2.2979\n",
      "2.297917366027832\n"
     ]
    }
   ],
   "source": [
    "# 모델 검증\n",
    "\n",
    "results = model.evaluate(enc_val, dec_val, verbose = 2)\n",
    "print(results)"
   ]
  },
  {
   "cell_type": "code",
   "execution_count": 21,
   "metadata": {},
   "outputs": [],
   "source": [
    "def generate_text(model, tokenizer, init_sentence=\"<start>\", max_len=20):\n",
    "    # 테스트를 위해서 입력받은 init_sentence도 일단 텐서로 변환합니다.\n",
    "    test_input = tokenizer.texts_to_sequences([init_sentence])\n",
    "    test_tensor = tf.convert_to_tensor(test_input, dtype=tf.int64)\n",
    "    end_token = tokenizer.word_index[\"<end>\"]\n",
    "\n",
    "    # 텍스트를 실제로 생성할때는 루프를 돌면서 단어 하나씩 생성해야 합니다. \n",
    "    while True:\n",
    "        predict = model(test_tensor)  # 입력받은 문장의 텐서를 입력합니다. \n",
    "        predict_word = tf.argmax(tf.nn.softmax(predict, axis=-1), axis=-1)[:, -1]   # 우리 모델이 예측한 마지막 단어가 바로 새롭게 생성한 단어가 됩니다. \n",
    "\n",
    "        # 우리 모델이 새롭게 예측한 단어를 입력 문장의 뒤에 붙여 줍니다. \n",
    "        test_tensor = tf.concat([test_tensor, tf.expand_dims(predict_word, axis=0)], axis=-1)\n",
    "\n",
    "        # 우리 모델이 <end>를 예측했거나, max_len에 도달하지 않았다면  while 루프를 또 돌면서 다음 단어를 예측해야 합니다.\n",
    "        if predict_word.numpy()[0] == end_token: break\n",
    "        if test_tensor.shape[1] >= max_len: break\n",
    "\n",
    "    generated = \"\"\n",
    "    # 생성된 tensor 안에 있는 word index를 tokenizer.index_word 사전을 통해 실제 단어로 하나씩 변환합니다. \n",
    "    for word_index in test_tensor[0].numpy():\n",
    "        generated += tokenizer.index_word[word_index] + \" \"\n",
    "\n",
    "    return generated   # 이것이 최종적으로 모델이 생성한 자연어 문장입니다."
   ]
  },
  {
   "cell_type": "code",
   "execution_count": 22,
   "metadata": {},
   "outputs": [
    {
     "data": {
      "text/plain": [
       "'<start> i tag royal tag circles unlock ripped tweetle tag circles ripped tweetle tag ripped tweetle tag circles ripped circles '"
      ]
     },
     "execution_count": 22,
     "metadata": {},
     "output_type": "execute_result"
    }
   ],
   "source": [
    "generate_text(model, tokenizer, init_sentence=\"<start> i\", max_len = 20)"
   ]
  },
  {
   "cell_type": "markdown",
   "metadata": {},
   "source": [
    "# 회고\n",
    "\n",
    "### - Pre로 진행한 뒤\n",
    "    전반적인 모델의 성능이 저하되는 것을 확인하였다.\n",
    "    LSTM을 활용한 모델이어서 pre-padding의 경우 성능이 더 좋을 줄 알았는데, 큰 차이는 없었지만, 성능이 조금 저하되는 것을 확인하니 더 혼란스럽다..\n",
    "    \n",
    "    "
   ]
  }
 ],
 "metadata": {
  "kernelspec": {
   "display_name": "k2",
   "language": "python",
   "name": "k2"
  },
  "language_info": {
   "codemirror_mode": {
    "name": "ipython",
    "version": 3
   },
   "file_extension": ".py",
   "mimetype": "text/x-python",
   "name": "python",
   "nbconvert_exporter": "python",
   "pygments_lexer": "ipython3",
   "version": "3.7.9"
  }
 },
 "nbformat": 4,
 "nbformat_minor": 4
}
