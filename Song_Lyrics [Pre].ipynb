{
 "cells": [
  {
   "cell_type": "code",
   "execution_count": 2,
   "metadata": {},
   "outputs": [
    {
     "data": {
      "text/plain": [
       "[PhysicalDevice(name='/physical_device:GPU:0', device_type='GPU')]"
      ]
     },
     "execution_count": 2,
     "metadata": {},
     "output_type": "execute_result"
    }
   ],
   "source": [
    "import tensorflow as tf\n",
    "tf.config.list_physical_devices('GPU')"
   ]
  },
  {
   "cell_type": "markdown",
   "metadata": {},
   "source": [
    "# Step 1, 2 데이터 다운로드 및 읽어오기"
   ]
  },
  {
   "cell_type": "code",
   "execution_count": 3,
   "metadata": {},
   "outputs": [
    {
     "name": "stdout",
     "output_type": "stream",
     "text": [
      "데이터 크기: 187088\n",
      "Examples:\n",
      " ['At first I was afraid', 'I was petrified', 'I kept thinking I could never live without you']\n"
     ]
    }
   ],
   "source": [
    "import glob\n",
    "import numpy as np\n",
    "import os\n",
    "import tensorflow as tf\n",
    "from tensorflow import keras\n",
    "\n",
    "txt_file_path = './lyricist/data/lyrics/*.txt'\n",
    "\n",
    "txt_list = glob.glob(txt_file_path)\n",
    "\n",
    "raw_corpus = []\n",
    "\n",
    "# 여러개의 txt 파일을 모두 읽어서 raw_corpus 에 담습니다.\n",
    "for txt_file in txt_list:\n",
    "    with open(txt_file, \"r\") as f:\n",
    "        raw = f.read().splitlines()\n",
    "        raw_corpus.extend(raw)\n",
    "\n",
    "print(\"데이터 크기:\", len(raw_corpus))\n",
    "print(\"Examples:\\n\", raw_corpus[:3])"
   ]
  },
  {
   "cell_type": "markdown",
   "metadata": {},
   "source": [
    "# Step 3. 데이터 정제"
   ]
  },
  {
   "cell_type": "code",
   "execution_count": 4,
   "metadata": {},
   "outputs": [
    {
     "name": "stdout",
     "output_type": "stream",
     "text": [
      "<start> this is sample sentence . <end>\n"
     ]
    }
   ],
   "source": [
    "import re\n",
    "\n",
    "def preprocess_sentence(sentence):\n",
    "    sentence = sentence.lower().strip()       # 소문자로 바꾸고 양쪽 공백을 삭제\n",
    "  \n",
    "    # 아래 3단계를 거쳐 sentence는 스페이스 1개를 delimeter로 하는 소문자 단어 시퀀스로 바뀝니다.\n",
    "    sentence = re.sub(r\"([?.!,¿])\", r\" \\1 \", sentence)        # 패턴의 특수문자를 만나면 특수문자 양쪽에 공백을 추가\n",
    "    sentence = re.sub(r'[\" \"]+', \" \", sentence)                  # 공백 패턴을 만나면 스페이스 1개로 치환\n",
    "    sentence = re.sub(r\"[^a-zA-Z?.!,¿]+\", \" \", sentence)  # a-zA-Z?.!,¿ 패턴을 제외한 모든 문자(공백문자까지도)를 스페이스 1개로 치환\n",
    "\n",
    "    sentence = sentence.strip()\n",
    "\n",
    "    sentence = '<start> ' + sentence + ' <end>'      # 이전 스텝에서 본 것처럼 문장 앞뒤로 <start>와 <end>를 단어처럼 붙여 줍니다\n",
    "    \n",
    "    return sentence\n",
    "\n",
    "print(preprocess_sentence(\"This @_is ;;;sample        sentence.\"))   # 이 문장이 어떻게 필터링되는지 확인해 보세요."
   ]
  },
  {
   "cell_type": "code",
   "execution_count": 5,
   "metadata": {},
   "outputs": [
    {
     "data": {
      "text/plain": [
       "['<start> at first i was afraid <end>',\n",
       " '<start> i was petrified <end>',\n",
       " '<start> i kept thinking i could never live without you <end>',\n",
       " '<start> by my side but then i spent so many nights <end>',\n",
       " '<start> just thinking how you ve done me wrong <end>',\n",
       " '<start> i grew strong <end>',\n",
       " '<start> i learned how to get along and so you re back <end>',\n",
       " '<start> from outer space <end>',\n",
       " '<start> i just walked in to find you <end>',\n",
       " '<start> here without that look upon your face i should have changed that fucking lock <end>']"
      ]
     },
     "execution_count": 5,
     "metadata": {},
     "output_type": "execute_result"
    }
   ],
   "source": [
    "corpus = []\n",
    "\n",
    "for sentence in raw_corpus:\n",
    "    # new_sentence = preprocess_sentence(sentence)\n",
    "    if len(sentence) == 0: continue\n",
    "    if sentence[-1] == \":\": continue\n",
    "        \n",
    "    corpus.append(preprocess_sentence(sentence))\n",
    "    \n",
    "        \n",
    "corpus[:10]"
   ]
  },
  {
   "cell_type": "code",
   "execution_count": 6,
   "metadata": {},
   "outputs": [],
   "source": [
    "new_corpus = []\n",
    "for i in corpus:\n",
    "    if len(i.split()) <= 15: # <Start> & <End>\n",
    "        new_corpus.append(i)"
   ]
  },
  {
   "cell_type": "code",
   "execution_count": 7,
   "metadata": {},
   "outputs": [
    {
     "data": {
      "text/plain": [
       "175749"
      ]
     },
     "execution_count": 7,
     "metadata": {},
     "output_type": "execute_result"
    }
   ],
   "source": [
    "len(corpus)"
   ]
  },
  {
   "cell_type": "code",
   "execution_count": 8,
   "metadata": {},
   "outputs": [
    {
     "data": {
      "text/plain": [
       "156013"
      ]
     },
     "execution_count": 8,
     "metadata": {},
     "output_type": "execute_result"
    }
   ],
   "source": [
    "len(new_corpus)"
   ]
  },
  {
   "cell_type": "code",
   "execution_count": 9,
   "metadata": {},
   "outputs": [
    {
     "name": "stdout",
     "output_type": "stream",
     "text": [
      "[[   0    0    0 ...   53  708    3]\n",
      " [   0    0    0 ...   53 6263    3]\n",
      " [   0    0    0 ...  257    7    3]\n",
      " ...\n",
      " [   0    0    0 ...  973    5    3]\n",
      " [   0    0    0 ... 1977   60    3]\n",
      " [   0    0    0 ...  225   60    3]] <keras_preprocessing.text.Tokenizer object at 0x7f65649f1210>\n"
     ]
    }
   ],
   "source": [
    "def tokenize(corpus):\n",
    "    # 텐서플로우에서 제공하는 Tokenizer 패키지를 생성\n",
    "    tokenizer = tf.keras.preprocessing.text.Tokenizer(\n",
    "        num_words=12000,  # 전체 단어의 개수 \n",
    "        filters=' ',    # 별도로 전처리 로직을 추가할 수 있습니다. 이번에는 사용하지 않겠습니다.\n",
    "        oov_token=\"<unk>\"  # out-of-vocabulary, 사전에 없었던 단어는 어떤 토큰으로 대체할지\n",
    "    )\n",
    "    tokenizer.fit_on_texts(new_corpus)   # 우리가 구축한 corpus로부터 Tokenizer가 사전을 자동구축하게 됩니다.\n",
    "\n",
    "    # 이후 tokenizer를 활용하여 모델에 입력할 데이터셋을 구축하게 됩니다.\n",
    "    tensor = tokenizer.texts_to_sequences(new_corpus)   # tokenizer는 구축한 사전으로부터 corpus를 해석해 Tensor로 변환합니다.\n",
    "\n",
    "    # 입력 데이터의 시퀀스 길이를 일정하게 맞추기 위한 padding  메소드를 제공합니다.\n",
    "    # maxlen의 디폴트값은 None입니다. 이 경우 corpus의 가장 긴 문장을 기준으로 시퀀스 길이가 맞춰집니다.\n",
    "    tensor = tf.keras.preprocessing.sequence.pad_sequences(tensor, padding='pre', maxlen = 15)  \n",
    "\n",
    "    print(tensor,tokenizer)\n",
    "    return tensor, tokenizer\n",
    "\n",
    "tensor, tokenizer = tokenize(new_corpus)"
   ]
  },
  {
   "cell_type": "code",
   "execution_count": 10,
   "metadata": {},
   "outputs": [
    {
     "data": {
      "text/plain": [
       "array([[   0,    0,    0, ...,   53,  708,    3],\n",
       "       [   0,    0,    0, ...,   53, 6263,    3],\n",
       "       [   0,    0,    0, ...,  257,    7,    3],\n",
       "       ...,\n",
       "       [   0,    0,    0, ...,  973,    5,    3],\n",
       "       [   0,    0,    0, ..., 1977,   60,    3],\n",
       "       [   0,    0,    0, ...,  225,   60,    3]], dtype=int32)"
      ]
     },
     "execution_count": 10,
     "metadata": {},
     "output_type": "execute_result"
    }
   ],
   "source": [
    "tensor"
   ]
  },
  {
   "cell_type": "code",
   "execution_count": 11,
   "metadata": {},
   "outputs": [
    {
     "data": {
      "text/plain": [
       "15"
      ]
     },
     "execution_count": 11,
     "metadata": {},
     "output_type": "execute_result"
    }
   ],
   "source": [
    "len(tensor[0])"
   ]
  },
  {
   "cell_type": "code",
   "execution_count": 12,
   "metadata": {},
   "outputs": [
    {
     "data": {
      "text/plain": [
       "<keras_preprocessing.text.Tokenizer at 0x7f65649f1210>"
      ]
     },
     "execution_count": 12,
     "metadata": {},
     "output_type": "execute_result"
    }
   ],
   "source": [
    "tokenizer"
   ]
  },
  {
   "cell_type": "code",
   "execution_count": 13,
   "metadata": {},
   "outputs": [
    {
     "name": "stdout",
     "output_type": "stream",
     "text": [
      "[  0   0   0   0   0   0   0   0   2  70 248   4  53 708]\n",
      "[  0   0   0   0   0   0   0   2  70 248   4  53 708   3]\n"
     ]
    }
   ],
   "source": [
    "src_input = tensor[:, :-1]  # tensor에서 마지막 토큰을 잘라내서 소스 문장을 생성합니다. 마지막 토큰은 <end>가 아니라 <pad>일 가능성이 높습니다.\n",
    "tgt_input = tensor[:, 1:]    # tensor에서 <start>를 잘라내서 타겟 문장을 생성합니다.\n",
    "\n",
    "print(src_input[0])\n",
    "print(tgt_input[0])"
   ]
  },
  {
   "cell_type": "markdown",
   "metadata": {},
   "source": [
    "# Step 4. 평가 데이터셋 분리"
   ]
  },
  {
   "cell_type": "code",
   "execution_count": 14,
   "metadata": {},
   "outputs": [],
   "source": [
    "from sklearn.model_selection import train_test_split\n",
    "\n",
    "enc_train, enc_val, dec_train, dec_val = train_test_split(src_input, tgt_input, test_size = 0.2, shuffle = True)"
   ]
  },
  {
   "cell_type": "code",
   "execution_count": 15,
   "metadata": {},
   "outputs": [
    {
     "data": {
      "text/plain": [
       "<BatchDataset shapes: ((256, 14), (256, 14)), types: (tf.int32, tf.int32)>"
      ]
     },
     "execution_count": 15,
     "metadata": {},
     "output_type": "execute_result"
    }
   ],
   "source": [
    "BUFFER_SIZE = len(src_input)\n",
    "BATCH_SIZE = 256\n",
    "steps_per_epoch = len(src_input) // BATCH_SIZE\n",
    "\n",
    "VOCAB_SIZE = tokenizer.num_words + 1    # tokenizer가 구축한 단어사전 내 12000개와, 여기 포함되지 않은 0:<pad>를 포함하여 12001개\n",
    "\n",
    "dataset = tf.data.Dataset.from_tensor_slices((enc_train, dec_train)).shuffle(BUFFER_SIZE)\n",
    "dataset = dataset.batch(BATCH_SIZE, drop_remainder=True)\n",
    "dataset"
   ]
  },
  {
   "cell_type": "code",
   "execution_count": 16,
   "metadata": {},
   "outputs": [
    {
     "name": "stdout",
     "output_type": "stream",
     "text": [
      "Source Train: (124810, 14)\n",
      "Target Train: (124810, 14)\n"
     ]
    }
   ],
   "source": [
    "print(\"Source Train:\", enc_train.shape)\n",
    "print(\"Target Train:\", dec_train.shape)"
   ]
  },
  {
   "cell_type": "markdown",
   "metadata": {},
   "source": [
    "# Step 5. 인공지능 만들기"
   ]
  },
  {
   "cell_type": "code",
   "execution_count": 17,
   "metadata": {},
   "outputs": [],
   "source": [
    "class TextGenerator(tf.keras.Model):\n",
    "    def __init__(self, vocab_size, embedding_size, hidden_size):\n",
    "        super(TextGenerator, self).__init__()\n",
    "        \n",
    "        self.embedding = tf.keras.layers.Embedding(vocab_size, embedding_size)\n",
    "        self.rnn_1 = tf.keras.layers.LSTM(hidden_size, return_sequences=True)\n",
    "        self.rnn_2 = tf.keras.layers.LSTM(hidden_size, return_sequences=True)\n",
    "        self.linear = tf.keras.layers.Dense(vocab_size)\n",
    "        \n",
    "    def call(self, x):\n",
    "        out = self.embedding(x)\n",
    "        out = self.rnn_1(out)\n",
    "        out = self.rnn_2(out)\n",
    "        out = self.linear(out)\n",
    "        \n",
    "        return out\n",
    "    \n",
    "embedding_size = 1024\n",
    "hidden_size = 2048\n",
    "model = TextGenerator(tokenizer.num_words + 1, embedding_size , hidden_size)"
   ]
  },
  {
   "cell_type": "code",
   "execution_count": 18,
   "metadata": {},
   "outputs": [
    {
     "data": {
      "text/plain": [
       "<tf.Tensor: shape=(256, 14, 12001), dtype=float32, numpy=\n",
       "array([[[ 8.26945325e-06, -5.93198696e-04, -6.35022807e-05, ...,\n",
       "          2.08069658e-04,  3.29839881e-04, -4.21816803e-04],\n",
       "        [ 3.92348011e-05, -1.51937525e-03, -9.91553025e-05, ...,\n",
       "          5.39548288e-04,  7.52611086e-04, -9.64625215e-04],\n",
       "        [ 9.75019575e-05, -2.60231039e-03, -7.70344268e-05, ...,\n",
       "          9.29085014e-04,  1.15905819e-03, -1.48483785e-03],\n",
       "        ...,\n",
       "        [ 4.31147724e-04, -2.56859674e-03,  2.22058338e-03, ...,\n",
       "          4.74605476e-03, -2.44570826e-03, -3.45344096e-03],\n",
       "        [ 1.67185193e-04, -1.40105945e-03,  2.11823964e-03, ...,\n",
       "          4.29064082e-03, -2.18121801e-03, -3.36648501e-03],\n",
       "        [ 3.47511582e-06, -3.66918161e-04,  1.74090127e-03, ...,\n",
       "          3.40479589e-03, -1.09142158e-03, -3.39276250e-03]],\n",
       "\n",
       "       [[ 9.96500385e-05, -5.36446692e-04,  5.45403855e-05, ...,\n",
       "         -2.32277656e-04,  4.59776238e-05,  1.97225221e-04],\n",
       "        [-1.20300996e-04, -9.92831192e-04, -1.03516701e-04, ...,\n",
       "         -2.07959718e-04, -8.91702221e-05,  1.60279727e-04],\n",
       "        [-1.93924265e-04, -8.69433745e-04, -3.65512074e-06, ...,\n",
       "          4.01659752e-04, -8.08358949e-04,  1.52478577e-04],\n",
       "        ...,\n",
       "        [ 5.31172438e-04, -1.42793148e-03, -2.41894461e-03, ...,\n",
       "          9.97413648e-04,  2.00990951e-04,  1.74223038e-03],\n",
       "        [ 9.98758595e-04, -1.45343039e-03, -1.73577620e-03, ...,\n",
       "          1.48098264e-03,  1.82407766e-05,  1.30538084e-03],\n",
       "        [ 1.70657900e-03, -1.48735172e-03, -8.92676006e-04, ...,\n",
       "          1.70161750e-03,  3.66869266e-04,  9.50938324e-04]],\n",
       "\n",
       "       [[ 8.26945325e-06, -5.93198696e-04, -6.35022807e-05, ...,\n",
       "          2.08069658e-04,  3.29839881e-04, -4.21816803e-04],\n",
       "        [ 3.92348011e-05, -1.51937525e-03, -9.91553025e-05, ...,\n",
       "          5.39548288e-04,  7.52611086e-04, -9.64625215e-04],\n",
       "        [ 1.88295919e-04, -2.54051760e-03,  4.26936385e-05, ...,\n",
       "          4.90764447e-04,  8.78089399e-04, -8.55383289e-04],\n",
       "        ...,\n",
       "        [-1.10472750e-03, -2.13812315e-03,  5.25454001e-04, ...,\n",
       "          2.32423446e-03,  9.20240011e-04,  1.08790013e-03],\n",
       "        [-1.61676214e-03, -1.93653291e-03,  1.35549592e-04, ...,\n",
       "          2.66886689e-03,  4.35326278e-04,  6.77152304e-04],\n",
       "        [-1.62885990e-03, -1.89193350e-03, -2.72799312e-04, ...,\n",
       "          2.44681351e-03,  1.03321428e-04,  1.48663370e-04]],\n",
       "\n",
       "       ...,\n",
       "\n",
       "       [[ 8.26945325e-06, -5.93198696e-04, -6.35022807e-05, ...,\n",
       "          2.08069658e-04,  3.29839881e-04, -4.21816803e-04],\n",
       "        [ 3.92348011e-05, -1.51937525e-03, -9.91553025e-05, ...,\n",
       "          5.39548288e-04,  7.52611086e-04, -9.64625215e-04],\n",
       "        [ 9.75019575e-05, -2.60231039e-03, -7.70344268e-05, ...,\n",
       "          9.29085014e-04,  1.15905819e-03, -1.48483785e-03],\n",
       "        ...,\n",
       "        [ 2.97846360e-04, -7.66135752e-03,  1.68374274e-03, ...,\n",
       "          2.73653516e-03,  1.64851884e-03, -1.34286808e-03],\n",
       "        [-3.21752334e-04, -6.34160684e-03,  1.43676309e-03, ...,\n",
       "          2.26749014e-03,  1.84215256e-03, -9.87322535e-04],\n",
       "        [-6.59111305e-04, -4.98802168e-03,  9.24493244e-04, ...,\n",
       "          2.15858314e-03,  1.63571513e-03, -3.40395316e-04]],\n",
       "\n",
       "       [[ 8.26945325e-06, -5.93198696e-04, -6.35022807e-05, ...,\n",
       "          2.08069658e-04,  3.29839881e-04, -4.21816803e-04],\n",
       "        [ 3.92348011e-05, -1.51937525e-03, -9.91553025e-05, ...,\n",
       "          5.39548288e-04,  7.52611086e-04, -9.64625215e-04],\n",
       "        [ 9.75019575e-05, -2.60231039e-03, -7.70344268e-05, ...,\n",
       "          9.29085014e-04,  1.15905819e-03, -1.48483785e-03],\n",
       "        ...,\n",
       "        [ 7.12178531e-04, -3.68739315e-03,  1.76439749e-03, ...,\n",
       "          2.52683484e-03,  2.48960278e-04, -3.01602832e-03],\n",
       "        [ 5.77172148e-04, -3.12929763e-03,  1.88617699e-03, ...,\n",
       "          2.05156393e-03,  6.19123282e-04, -2.63774814e-03],\n",
       "        [ 9.69674496e-04, -3.16028367e-03,  1.48467987e-03, ...,\n",
       "          1.59264507e-03,  7.76886474e-04, -2.43642670e-03]],\n",
       "\n",
       "       [[ 8.26945325e-06, -5.93198696e-04, -6.35022807e-05, ...,\n",
       "          2.08069658e-04,  3.29839881e-04, -4.21816803e-04],\n",
       "        [ 3.92348011e-05, -1.51937525e-03, -9.91553025e-05, ...,\n",
       "          5.39548288e-04,  7.52611086e-04, -9.64625215e-04],\n",
       "        [ 9.75019575e-05, -2.60231039e-03, -7.70344268e-05, ...,\n",
       "          9.29085014e-04,  1.15905819e-03, -1.48483785e-03],\n",
       "        ...,\n",
       "        [ 2.56245257e-03, -2.39426969e-03,  5.69539669e-04, ...,\n",
       "          1.85873406e-03,  6.47306093e-04,  3.36389130e-05],\n",
       "        [ 2.72660563e-03, -2.20255204e-03,  6.52471848e-04, ...,\n",
       "          1.78237155e-03,  8.31681828e-04,  1.86792149e-05],\n",
       "        [ 2.98662134e-03, -1.63704669e-03,  7.07946019e-04, ...,\n",
       "          1.69996649e-03,  1.31747476e-03,  1.61147836e-04]]],\n",
       "      dtype=float32)>"
      ]
     },
     "execution_count": 18,
     "metadata": {},
     "output_type": "execute_result"
    }
   ],
   "source": [
    "for src_sample, tgt_sample in dataset.take(1): break\n",
    "model(src_sample)"
   ]
  },
  {
   "cell_type": "code",
   "execution_count": 19,
   "metadata": {},
   "outputs": [
    {
     "name": "stdout",
     "output_type": "stream",
     "text": [
      "Model: \"text_generator\"\n",
      "_________________________________________________________________\n",
      "Layer (type)                 Output Shape              Param #   \n",
      "=================================================================\n",
      "embedding (Embedding)        multiple                  12289024  \n",
      "_________________________________________________________________\n",
      "lstm (LSTM)                  multiple                  25174016  \n",
      "_________________________________________________________________\n",
      "lstm_1 (LSTM)                multiple                  33562624  \n",
      "_________________________________________________________________\n",
      "dense (Dense)                multiple                  24590049  \n",
      "=================================================================\n",
      "Total params: 95,615,713\n",
      "Trainable params: 95,615,713\n",
      "Non-trainable params: 0\n",
      "_________________________________________________________________\n"
     ]
    }
   ],
   "source": [
    "model.summary()"
   ]
  },
  {
   "cell_type": "code",
   "execution_count": 20,
   "metadata": {},
   "outputs": [
    {
     "name": "stdout",
     "output_type": "stream",
     "text": [
      "Epoch 1/10\n",
      "487/487 [==============================] - 861s 2s/step - loss: 3.3957\n",
      "Epoch 2/10\n",
      "487/487 [==============================] - 288s 591ms/step - loss: 2.8496\n",
      "Epoch 3/10\n",
      "487/487 [==============================] - 212s 436ms/step - loss: 2.6320\n",
      "Epoch 4/10\n",
      "487/487 [==============================] - 209s 429ms/step - loss: 2.4288\n",
      "Epoch 5/10\n",
      "487/487 [==============================] - 208s 428ms/step - loss: 2.2431\n",
      "Epoch 6/10\n",
      "487/487 [==============================] - 213s 437ms/step - loss: 2.0613\n",
      "Epoch 7/10\n",
      "487/487 [==============================] - 214s 440ms/step - loss: 1.8856\n",
      "Epoch 8/10\n",
      "487/487 [==============================] - 211s 432ms/step - loss: 1.7169\n",
      "Epoch 9/10\n",
      "487/487 [==============================] - 211s 434ms/step - loss: 1.5589\n",
      "Epoch 10/10\n",
      "487/487 [==============================] - 211s 433ms/step - loss: 1.4140\n"
     ]
    },
    {
     "data": {
      "text/plain": [
       "<tensorflow.python.keras.callbacks.History at 0x7f655c16b690>"
      ]
     },
     "execution_count": 20,
     "metadata": {},
     "output_type": "execute_result"
    }
   ],
   "source": [
    "optimizer = tf.keras.optimizers.Adam()\n",
    "loss = tf.keras.losses.SparseCategoricalCrossentropy(\n",
    "    from_logits=True,\n",
    "    reduction='none'\n",
    ")\n",
    "\n",
    "model.compile(loss=loss, optimizer=optimizer)\n",
    "model.fit(dataset, epochs=10)"
   ]
  },
  {
   "cell_type": "code",
   "execution_count": 21,
   "metadata": {},
   "outputs": [
    {
     "name": "stdout",
     "output_type": "stream",
     "text": [
      "976/976 - 24s - loss: 2.2568\n",
      "2.2567861080169678\n"
     ]
    }
   ],
   "source": [
    "# 모델 검증\n",
    "\n",
    "results = model.evaluate(enc_val, dec_val, verbose = 2)\n",
    "print(results)"
   ]
  },
  {
   "cell_type": "code",
   "execution_count": 22,
   "metadata": {},
   "outputs": [],
   "source": [
    "def generate_text(model, tokenizer, init_sentence=\"<start>\", max_len=20):\n",
    "    # 테스트를 위해서 입력받은 init_sentence도 일단 텐서로 변환합니다.\n",
    "    test_input = tokenizer.texts_to_sequences([init_sentence])\n",
    "    test_tensor = tf.convert_to_tensor(test_input, dtype=tf.int64)\n",
    "    end_token = tokenizer.word_index[\"<end>\"]\n",
    "\n",
    "    # 텍스트를 실제로 생성할때는 루프를 돌면서 단어 하나씩 생성해야 합니다. \n",
    "    while True:\n",
    "        predict = model(test_tensor)  # 입력받은 문장의 텐서를 입력합니다. \n",
    "        predict_word = tf.argmax(tf.nn.softmax(predict, axis=-1), axis=-1)[:, -1]   # 우리 모델이 예측한 마지막 단어가 바로 새롭게 생성한 단어가 됩니다. \n",
    "\n",
    "        # 우리 모델이 새롭게 예측한 단어를 입력 문장의 뒤에 붙여 줍니다. \n",
    "        test_tensor = tf.concat([test_tensor, tf.expand_dims(predict_word, axis=0)], axis=-1)\n",
    "\n",
    "        # 우리 모델이 <end>를 예측했거나, max_len에 도달하지 않았다면  while 루프를 또 돌면서 다음 단어를 예측해야 합니다.\n",
    "        if predict_word.numpy()[0] == end_token: break\n",
    "        if test_tensor.shape[1] >= max_len: break\n",
    "\n",
    "    generated = \"\"\n",
    "    # 생성된 tensor 안에 있는 word index를 tokenizer.index_word 사전을 통해 실제 단어로 하나씩 변환합니다. \n",
    "    for word_index in test_tensor[0].numpy():\n",
    "        generated += tokenizer.index_word[word_index] + \" \"\n",
    "\n",
    "    return generated   # 이것이 최종적으로 모델이 생성한 자연어 문장입니다."
   ]
  },
  {
   "cell_type": "code",
   "execution_count": 23,
   "metadata": {},
   "outputs": [
    {
     "data": {
      "text/plain": [
       "'<start> i love you , i love you , i m a fool ooooh <end> '"
      ]
     },
     "execution_count": 23,
     "metadata": {},
     "output_type": "execute_result"
    }
   ],
   "source": [
    "generate_text(model, tokenizer, init_sentence=\"<start> i love\", max_len = 20)"
   ]
  },
  {
   "cell_type": "markdown",
   "metadata": {},
   "source": [
    "# 회고\n",
    "\n",
    "### - Pre로 진행한 뒤\n",
    "    전반적인 모델의 성능이 저하되는 것을 확인하였다.\n",
    "    LSTM을 활용한 모델이어서 pre-padding의 경우 성능이 더 좋을 줄 알았는데, 큰 차이는 없었지만, 성능이 조금 저하되는 것을 확인하니 더 혼란스럽다..\n",
    "    \n",
    "    "
   ]
  }
 ],
 "metadata": {
  "kernelspec": {
   "display_name": "k2",
   "language": "python",
   "name": "k2"
  },
  "language_info": {
   "codemirror_mode": {
    "name": "ipython",
    "version": 3
   },
   "file_extension": ".py",
   "mimetype": "text/x-python",
   "name": "python",
   "nbconvert_exporter": "python",
   "pygments_lexer": "ipython3",
   "version": "3.7.9"
  }
 },
 "nbformat": 4,
 "nbformat_minor": 4
}
